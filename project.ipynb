{
 "cells": [
  {
   "attachments": {},
   "cell_type": "markdown",
   "id": "innocent-university",
   "metadata": {},
   "source": [
    "# Real Estate Clean up\n",
    "\n",
    "This is a real dataset and it was downloaded using web scraping techniques. The data contains registers from fotocasa which is one of the most popular websites of real estate in Spain. Please, do not do this (web scraping) unless it is for academic purposes.\n",
    "\n",
    "The dataset was downloaded a few years ago by Henry Navarro and In no case were economic returns obtained from it.\n",
    "\n",
    "It contains thousands of data from real houses published on the web www.fotocasa.com. Your goal is to extract as much information as possible with the knowledge you have so far about data science, for example what is the most expensive house in the entire dataset?\n",
    "\n",
    "Let's start with precisely that question... Good luck!"
   ]
  },
  {
   "cell_type": "code",
   "execution_count": 13,
   "id": "4686c3a1",
   "metadata": {},
   "outputs": [],
   "source": [
    "#Libraries\n",
    "import pandas as pd\n",
    "from matplotlib import pyplot as plt\n",
    "from ipyleaflet import Map, basemaps, CircleMarker\n",
    "import random\n",
    "import matplotlib.colors as colors"
   ]
  },
  {
   "attachments": {},
   "cell_type": "markdown",
   "id": "multiple-glass",
   "metadata": {},
   "source": [
    "#### Exercise 00. Read the dataset assets/real_estate.csv and try to visualize the table (★☆☆)"
   ]
  },
  {
   "cell_type": "code",
<<<<<<< HEAD
   "execution_count": 1,
   "id": "frank-heath",
=======
   "execution_count": 14,
   "id": "4b93d9c8",
>>>>>>> a1568b2e99372e51dbab8b2aa75477676c2d4ca8
   "metadata": {},
   "outputs": [
    {
     "name": "stderr",
     "output_type": "stream",
     "text": [
      "C:\\Users\\fevc_\\AppData\\Local\\Temp\\ipykernel_10616\\4098645343.py:1: DeprecationWarning: \n",
      "Pyarrow will become a required dependency of pandas in the next major release of pandas (pandas 3.0),\n",
      "(to allow more performant data types, such as the Arrow string type, and better interoperability with other libraries)\n",
      "but was not found to be installed on your system.\n",
      "If this would cause problems for you,\n",
      "please provide us feedback at https://github.com/pandas-dev/pandas/issues/54466\n",
      "        \n",
      "  import pandas as pd\n"
     ]
    },
    {
     "data": {
      "text/html": [
       "<div>\n",
       "<style scoped>\n",
       "    .dataframe tbody tr th:only-of-type {\n",
       "        vertical-align: middle;\n",
       "    }\n",
       "\n",
       "    .dataframe tbody tr th {\n",
       "        vertical-align: top;\n",
       "    }\n",
       "\n",
       "    .dataframe thead th {\n",
       "        text-align: right;\n",
       "    }\n",
       "</style>\n",
       "<table border=\"1\" class=\"dataframe\">\n",
       "  <thead>\n",
       "    <tr style=\"text-align: right;\">\n",
       "      <th></th>\n",
       "      <th>id_realEstates</th>\n",
       "      <th>isNew</th>\n",
       "      <th>realEstate_name</th>\n",
       "      <th>phone_realEstate</th>\n",
       "      <th>url_inmueble</th>\n",
       "      <th>rooms</th>\n",
       "      <th>bathrooms</th>\n",
       "      <th>surface</th>\n",
       "      <th>price</th>\n",
       "      <th>date</th>\n",
       "      <th>...</th>\n",
       "      <th>level4Id</th>\n",
       "      <th>level5Id</th>\n",
       "      <th>level6Id</th>\n",
       "      <th>level7Id</th>\n",
       "      <th>level8Id</th>\n",
       "      <th>accuracy</th>\n",
       "      <th>latitude</th>\n",
       "      <th>longitude</th>\n",
       "      <th>zipCode</th>\n",
       "      <th>customZone</th>\n",
       "    </tr>\n",
       "  </thead>\n",
       "  <tbody>\n",
       "    <tr>\n",
       "      <th>0</th>\n",
       "      <td>153771986</td>\n",
       "      <td>False</td>\n",
       "      <td>ferrari 57 inmobiliaria</td>\n",
       "      <td>912177526.0</td>\n",
       "      <td>https://www.fotocasa.es/es/comprar/vivienda/ma...</td>\n",
       "      <td>3.0</td>\n",
       "      <td>2.0</td>\n",
       "      <td>103.0</td>\n",
       "      <td>195000</td>\n",
       "      <td>2019-12-28T18:27:15.9975027Z</td>\n",
       "      <td>...</td>\n",
       "      <td>0</td>\n",
       "      <td>0</td>\n",
       "      <td>0</td>\n",
       "      <td>0</td>\n",
       "      <td>0</td>\n",
       "      <td>0</td>\n",
       "      <td>40,2948276786438</td>\n",
       "      <td>-3,44402412135624</td>\n",
       "      <td>NaN</td>\n",
       "      <td>NaN</td>\n",
       "    </tr>\n",
       "    <tr>\n",
       "      <th>1</th>\n",
       "      <td>153867863</td>\n",
       "      <td>False</td>\n",
       "      <td>tecnocasa fuenlabrada ferrocarril</td>\n",
       "      <td>916358736.0</td>\n",
       "      <td>https://www.fotocasa.es/es/comprar/vivienda/ma...</td>\n",
       "      <td>3.0</td>\n",
       "      <td>1.0</td>\n",
       "      <td>NaN</td>\n",
       "      <td>89000</td>\n",
       "      <td>2019-12-28T18:27:15.9975027Z</td>\n",
       "      <td>...</td>\n",
       "      <td>0</td>\n",
       "      <td>0</td>\n",
       "      <td>0</td>\n",
       "      <td>0</td>\n",
       "      <td>0</td>\n",
       "      <td>1</td>\n",
       "      <td>40,28674</td>\n",
       "      <td>-3,79351</td>\n",
       "      <td>NaN</td>\n",
       "      <td>NaN</td>\n",
       "    </tr>\n",
       "    <tr>\n",
       "      <th>2</th>\n",
       "      <td>153430440</td>\n",
       "      <td>False</td>\n",
       "      <td>look find boadilla</td>\n",
       "      <td>916350408.0</td>\n",
       "      <td>https://www.fotocasa.es/es/comprar/vivienda/ma...</td>\n",
       "      <td>2.0</td>\n",
       "      <td>2.0</td>\n",
       "      <td>99.0</td>\n",
       "      <td>390000</td>\n",
       "      <td>2019-12-28T18:27:15.9975027Z</td>\n",
       "      <td>...</td>\n",
       "      <td>0</td>\n",
       "      <td>0</td>\n",
       "      <td>0</td>\n",
       "      <td>0</td>\n",
       "      <td>0</td>\n",
       "      <td>0</td>\n",
       "      <td>40,4115646786438</td>\n",
       "      <td>-3,90662252135624</td>\n",
       "      <td>NaN</td>\n",
       "      <td>NaN</td>\n",
       "    </tr>\n",
       "    <tr>\n",
       "      <th>3</th>\n",
       "      <td>152776331</td>\n",
       "      <td>False</td>\n",
       "      <td>tecnocasa fuenlabrada ferrocarril</td>\n",
       "      <td>916358736.0</td>\n",
       "      <td>https://www.fotocasa.es/es/comprar/vivienda/ma...</td>\n",
       "      <td>3.0</td>\n",
       "      <td>1.0</td>\n",
       "      <td>86.0</td>\n",
       "      <td>89000</td>\n",
       "      <td>2019-12-28T18:27:15.9975027Z</td>\n",
       "      <td>...</td>\n",
       "      <td>0</td>\n",
       "      <td>0</td>\n",
       "      <td>0</td>\n",
       "      <td>0</td>\n",
       "      <td>0</td>\n",
       "      <td>0</td>\n",
       "      <td>40,2853785786438</td>\n",
       "      <td>-3,79508142135624</td>\n",
       "      <td>NaN</td>\n",
       "      <td>NaN</td>\n",
       "    </tr>\n",
       "    <tr>\n",
       "      <th>4</th>\n",
       "      <td>153180188</td>\n",
       "      <td>False</td>\n",
       "      <td>ferrari 57 inmobiliaria</td>\n",
       "      <td>912177526.0</td>\n",
       "      <td>https://www.fotocasa.es/es/comprar/vivienda/ma...</td>\n",
       "      <td>2.0</td>\n",
       "      <td>2.0</td>\n",
       "      <td>106.0</td>\n",
       "      <td>172000</td>\n",
       "      <td>2019-12-28T18:27:15.9975027Z</td>\n",
       "      <td>...</td>\n",
       "      <td>0</td>\n",
       "      <td>0</td>\n",
       "      <td>0</td>\n",
       "      <td>0</td>\n",
       "      <td>0</td>\n",
       "      <td>0</td>\n",
       "      <td>40,2998774864376</td>\n",
       "      <td>-3,45226301356237</td>\n",
       "      <td>NaN</td>\n",
       "      <td>NaN</td>\n",
       "    </tr>\n",
       "    <tr>\n",
       "      <th>...</th>\n",
       "      <td>...</td>\n",
       "      <td>...</td>\n",
       "      <td>...</td>\n",
       "      <td>...</td>\n",
       "      <td>...</td>\n",
       "      <td>...</td>\n",
       "      <td>...</td>\n",
       "      <td>...</td>\n",
       "      <td>...</td>\n",
       "      <td>...</td>\n",
       "      <td>...</td>\n",
       "      <td>...</td>\n",
       "      <td>...</td>\n",
       "      <td>...</td>\n",
       "      <td>...</td>\n",
       "      <td>...</td>\n",
       "      <td>...</td>\n",
       "      <td>...</td>\n",
       "      <td>...</td>\n",
       "      <td>...</td>\n",
       "      <td>...</td>\n",
       "    </tr>\n",
       "    <tr>\n",
       "      <th>15330</th>\n",
       "      <td>153901377</td>\n",
       "      <td>False</td>\n",
       "      <td>infocasa consulting</td>\n",
       "      <td>911360461.0</td>\n",
       "      <td>https://www.fotocasa.es/es/comprar/vivienda/ma...</td>\n",
       "      <td>2.0</td>\n",
       "      <td>1.0</td>\n",
       "      <td>96.0</td>\n",
       "      <td>259470</td>\n",
       "      <td>2019-12-17T18:19:00Z</td>\n",
       "      <td>...</td>\n",
       "      <td>0</td>\n",
       "      <td>0</td>\n",
       "      <td>0</td>\n",
       "      <td>0</td>\n",
       "      <td>0</td>\n",
       "      <td>0</td>\n",
       "      <td>40,45416</td>\n",
       "      <td>-3,70286</td>\n",
       "      <td>NaN</td>\n",
       "      <td>NaN</td>\n",
       "    </tr>\n",
       "    <tr>\n",
       "      <th>15331</th>\n",
       "      <td>150394373</td>\n",
       "      <td>False</td>\n",
       "      <td>inmobiliaria pulpon</td>\n",
       "      <td>912788039.0</td>\n",
       "      <td>https://www.fotocasa.es/es/comprar/vivienda/ma...</td>\n",
       "      <td>3.0</td>\n",
       "      <td>1.0</td>\n",
       "      <td>150.0</td>\n",
       "      <td>165000</td>\n",
       "      <td>2019-12-17T18:19:00Z</td>\n",
       "      <td>...</td>\n",
       "      <td>0</td>\n",
       "      <td>0</td>\n",
       "      <td>0</td>\n",
       "      <td>0</td>\n",
       "      <td>0</td>\n",
       "      <td>0</td>\n",
       "      <td>40,36652</td>\n",
       "      <td>-3,48951</td>\n",
       "      <td>NaN</td>\n",
       "      <td>NaN</td>\n",
       "    </tr>\n",
       "    <tr>\n",
       "      <th>15332</th>\n",
       "      <td>153901397</td>\n",
       "      <td>False</td>\n",
       "      <td>tecnocasa torrelodones</td>\n",
       "      <td>912780348.0</td>\n",
       "      <td>https://www.fotocasa.es/es/comprar/vivienda/ma...</td>\n",
       "      <td>4.0</td>\n",
       "      <td>2.0</td>\n",
       "      <td>175.0</td>\n",
       "      <td>495000</td>\n",
       "      <td>2019-12-17T18:19:00Z</td>\n",
       "      <td>...</td>\n",
       "      <td>0</td>\n",
       "      <td>0</td>\n",
       "      <td>0</td>\n",
       "      <td>0</td>\n",
       "      <td>0</td>\n",
       "      <td>0</td>\n",
       "      <td>40,57444</td>\n",
       "      <td>-3,92124</td>\n",
       "      <td>NaN</td>\n",
       "      <td>NaN</td>\n",
       "    </tr>\n",
       "    <tr>\n",
       "      <th>15333</th>\n",
       "      <td>152607440</td>\n",
       "      <td>False</td>\n",
       "      <td>inmobiliaria pulpon</td>\n",
       "      <td>912788039.0</td>\n",
       "      <td>https://www.fotocasa.es/es/comprar/vivienda/ma...</td>\n",
       "      <td>3.0</td>\n",
       "      <td>2.0</td>\n",
       "      <td>101.0</td>\n",
       "      <td>195000</td>\n",
       "      <td>2019-12-17T18:18:00Z</td>\n",
       "      <td>...</td>\n",
       "      <td>0</td>\n",
       "      <td>0</td>\n",
       "      <td>0</td>\n",
       "      <td>0</td>\n",
       "      <td>0</td>\n",
       "      <td>0</td>\n",
       "      <td>40,36967</td>\n",
       "      <td>-3,48105</td>\n",
       "      <td>NaN</td>\n",
       "      <td>NaN</td>\n",
       "    </tr>\n",
       "    <tr>\n",
       "      <th>15334</th>\n",
       "      <td>153901356</td>\n",
       "      <td>False</td>\n",
       "      <td>infocasa consulting</td>\n",
       "      <td>911360461.0</td>\n",
       "      <td>https://www.fotocasa.es/es/comprar/vivienda/ma...</td>\n",
       "      <td>3.0</td>\n",
       "      <td>2.0</td>\n",
       "      <td>152.0</td>\n",
       "      <td>765000</td>\n",
       "      <td>2019-12-17T18:17:00Z</td>\n",
       "      <td>...</td>\n",
       "      <td>0</td>\n",
       "      <td>0</td>\n",
       "      <td>0</td>\n",
       "      <td>0</td>\n",
       "      <td>0</td>\n",
       "      <td>0</td>\n",
       "      <td>40,45773</td>\n",
       "      <td>-3,69068</td>\n",
       "      <td>NaN</td>\n",
       "      <td>NaN</td>\n",
       "    </tr>\n",
       "  </tbody>\n",
       "</table>\n",
       "<p>15335 rows × 36 columns</p>\n",
       "</div>"
      ],
      "text/plain": [
<<<<<<< HEAD
       "       Unnamed: 0  id_realEstates  isNew                    realEstate_name  \\\n",
       "0               1       153771986  False            ferrari 57 inmobiliaria   \n",
       "1               2       153867863  False  tecnocasa fuenlabrada ferrocarril   \n",
       "2               3       153430440  False                 look find boadilla   \n",
       "3               4       152776331  False  tecnocasa fuenlabrada ferrocarril   \n",
       "4               5       153180188  False            ferrari 57 inmobiliaria   \n",
       "...           ...             ...    ...                                ...   \n",
       "15330       15331       153901377  False                infocasa consulting   \n",
       "15331       15332       150394373  False                inmobiliaria pulpon   \n",
       "15332       15333       153901397  False             tecnocasa torrelodones   \n",
       "15333       15334       152607440  False                inmobiliaria pulpon   \n",
       "15334       15335       153901356  False                infocasa consulting   \n",
=======
       "       id_realEstates  isNew                    realEstate_name  \\\n",
       "0           153771986  False            ferrari 57 inmobiliaria   \n",
       "1           153867863  False  tecnocasa fuenlabrada ferrocarril   \n",
       "2           153430440  False                 look find boadilla   \n",
       "3           152776331  False  tecnocasa fuenlabrada ferrocarril   \n",
       "4           153180188  False            ferrari 57 inmobiliaria   \n",
       "...               ...    ...                                ...   \n",
       "15330       153901377  False                infocasa consulting   \n",
       "15331       150394373  False                inmobiliaria pulpon   \n",
       "15332       153901397  False             tecnocasa torrelodones   \n",
       "15333       152607440  False                inmobiliaria pulpon   \n",
       "15334       153901356  False                infocasa consulting   \n",
>>>>>>> a1568b2e99372e51dbab8b2aa75477676c2d4ca8
       "\n",
       "       phone_realEstate                                       url_inmueble  \\\n",
       "0           912177526.0  https://www.fotocasa.es/es/comprar/vivienda/ma...   \n",
       "1           916358736.0  https://www.fotocasa.es/es/comprar/vivienda/ma...   \n",
       "2           916350408.0  https://www.fotocasa.es/es/comprar/vivienda/ma...   \n",
       "3           916358736.0  https://www.fotocasa.es/es/comprar/vivienda/ma...   \n",
       "4           912177526.0  https://www.fotocasa.es/es/comprar/vivienda/ma...   \n",
       "...                 ...                                                ...   \n",
       "15330       911360461.0  https://www.fotocasa.es/es/comprar/vivienda/ma...   \n",
       "15331       912788039.0  https://www.fotocasa.es/es/comprar/vivienda/ma...   \n",
       "15332       912780348.0  https://www.fotocasa.es/es/comprar/vivienda/ma...   \n",
       "15333       912788039.0  https://www.fotocasa.es/es/comprar/vivienda/ma...   \n",
       "15334       911360461.0  https://www.fotocasa.es/es/comprar/vivienda/ma...   \n",
       "\n",
<<<<<<< HEAD
       "       rooms  bathrooms  surface   price  ... level4Id level5Id level6Id  \\\n",
       "0        3.0        2.0    103.0  195000  ...        0        0        0   \n",
       "1        3.0        1.0      NaN   89000  ...        0        0        0   \n",
       "2        2.0        2.0     99.0  390000  ...        0        0        0   \n",
       "3        3.0        1.0     86.0   89000  ...        0        0        0   \n",
       "4        2.0        2.0    106.0  172000  ...        0        0        0   \n",
       "...      ...        ...      ...     ...  ...      ...      ...      ...   \n",
       "15330    2.0        1.0     96.0  259470  ...        0        0        0   \n",
       "15331    3.0        1.0    150.0  165000  ...        0        0        0   \n",
       "15332    4.0        2.0    175.0  495000  ...        0        0        0   \n",
       "15333    3.0        2.0    101.0  195000  ...        0        0        0   \n",
       "15334    3.0        2.0    152.0  765000  ...        0        0        0   \n",
       "\n",
       "      level7Id level8Id accuracy          latitude          longitude zipCode  \\\n",
       "0            0        0        0  40,2948276786438  -3,44402412135624     NaN   \n",
       "1            0        0        1          40,28674           -3,79351     NaN   \n",
       "2            0        0        0  40,4115646786438  -3,90662252135624     NaN   \n",
       "3            0        0        0  40,2853785786438  -3,79508142135624     NaN   \n",
       "4            0        0        0  40,2998774864376  -3,45226301356237     NaN   \n",
       "...        ...      ...      ...               ...                ...     ...   \n",
       "15330        0        0        0          40,45416           -3,70286     NaN   \n",
       "15331        0        0        0          40,36652           -3,48951     NaN   \n",
       "15332        0        0        0          40,57444           -3,92124     NaN   \n",
       "15333        0        0        0          40,36967           -3,48105     NaN   \n",
       "15334        0        0        0          40,45773           -3,69068     NaN   \n",
=======
       "       rooms  bathrooms  surface   price                          date  ...  \\\n",
       "0        3.0        2.0    103.0  195000  2019-12-28T18:27:15.9975027Z  ...   \n",
       "1        3.0        1.0      NaN   89000  2019-12-28T18:27:15.9975027Z  ...   \n",
       "2        2.0        2.0     99.0  390000  2019-12-28T18:27:15.9975027Z  ...   \n",
       "3        3.0        1.0     86.0   89000  2019-12-28T18:27:15.9975027Z  ...   \n",
       "4        2.0        2.0    106.0  172000  2019-12-28T18:27:15.9975027Z  ...   \n",
       "...      ...        ...      ...     ...                           ...  ...   \n",
       "15330    2.0        1.0     96.0  259470          2019-12-17T18:19:00Z  ...   \n",
       "15331    3.0        1.0    150.0  165000          2019-12-17T18:19:00Z  ...   \n",
       "15332    4.0        2.0    175.0  495000          2019-12-17T18:19:00Z  ...   \n",
       "15333    3.0        2.0    101.0  195000          2019-12-17T18:18:00Z  ...   \n",
       "15334    3.0        2.0    152.0  765000          2019-12-17T18:17:00Z  ...   \n",
       "\n",
       "      level4Id level5Id level6Id level7Id level8Id accuracy          latitude  \\\n",
       "0            0        0        0        0        0        0  40,2948276786438   \n",
       "1            0        0        0        0        0        1          40,28674   \n",
       "2            0        0        0        0        0        0  40,4115646786438   \n",
       "3            0        0        0        0        0        0  40,2853785786438   \n",
       "4            0        0        0        0        0        0  40,2998774864376   \n",
       "...        ...      ...      ...      ...      ...      ...               ...   \n",
       "15330        0        0        0        0        0        0          40,45416   \n",
       "15331        0        0        0        0        0        0          40,36652   \n",
       "15332        0        0        0        0        0        0          40,57444   \n",
       "15333        0        0        0        0        0        0          40,36967   \n",
       "15334        0        0        0        0        0        0          40,45773   \n",
>>>>>>> a1568b2e99372e51dbab8b2aa75477676c2d4ca8
       "\n",
       "               longitude zipCode customZone  \n",
       "0      -3,44402412135624     NaN        NaN  \n",
       "1               -3,79351     NaN        NaN  \n",
       "2      -3,90662252135624     NaN        NaN  \n",
       "3      -3,79508142135624     NaN        NaN  \n",
       "4      -3,45226301356237     NaN        NaN  \n",
       "...                  ...     ...        ...  \n",
       "15330           -3,70286     NaN        NaN  \n",
       "15331           -3,48951     NaN        NaN  \n",
       "15332           -3,92124     NaN        NaN  \n",
       "15333           -3,48105     NaN        NaN  \n",
       "15334           -3,69068     NaN        NaN  \n",
       "\n",
       "[15335 rows x 36 columns]"
      ]
     },
<<<<<<< HEAD
     "execution_count": 1,
=======
     "execution_count": 14,
>>>>>>> a1568b2e99372e51dbab8b2aa75477676c2d4ca8
     "metadata": {},
     "output_type": "execute_result"
    }
   ],
   "source": [
<<<<<<< HEAD
    "import pandas as pd\n",
    "\n",
    "# this CSV file contains semicolons instead of comas as separator\n",
    "ds = pd.read_csv('assets/real_estate.csv', sep=';')\n",
    "ds"
=======
    "#Read the dataset assets/real_state.csv and try to visualize the table\n",
    "dataset = pd.read_csv('assets/real_estate.csv', sep=';')\n",
    "\n",
    "#Delete the Unnamed column\n",
    "rs_ds = dataset.drop(columns=['Unnamed: 0'])\n",
    "\n",
    "rs_ds"
>>>>>>> a1568b2e99372e51dbab8b2aa75477676c2d4ca8
   ]
  },
  {
   "cell_type": "markdown",
   "id": "latin-guest",
   "metadata": {},
   "source": [
    "#### Exercise 01. Which is the most expensive house in the dataset? (★☆☆)\n",
    "\n",
    "Print the address and the price of the selected house. For example:\n",
    "\n",
    "`The house with address General Street Nº5 is the most expensive and its price is 5000000 USD`"
   ]
  },
  {
   "cell_type": "code",
<<<<<<< HEAD
   "execution_count": 28,
   "id": "developing-optimum",
   "metadata": {},
   "outputs": [
    {
     "name": "stdout",
     "output_type": "stream",
     "text": [
      "The house with address El Escorial is the most expensive and its price is 8500000\n"
     ]
    }
   ],
   "source": [
    "# Most Expensive House\n",
    "most_expensive_house = ds.loc[ds['price'].idxmax()]\n",
    "print(f'The house with address {most_expensive_house.address} is the most expensive and its price is {most_expensive_house.price}')"
   ]
  },
  {
   "attachments": {},
   "cell_type": "markdown",
   "id": "lesser-cosmetic",
   "metadata": {},
   "source": [
    "#### Exercise 02. Which is cheapest house in the dataset? (★☆☆)\n",
    "\n",
    "Print the address and the price of the selected house. For example:\n",
    "\n",
    "`The house with address Concrete Street Nº1 is the cheapest and its price is 12000 USD`"
   ]
  },
  {
   "cell_type": "code",
   "execution_count": 29,
   "id": "lovely-oasis",
   "metadata": {},
   "outputs": [
    {
     "name": "stdout",
     "output_type": "stream",
     "text": [
      "The house with address Parla is the cheapest and its price is 0\n"
     ]
    }
   ],
   "source": [
    "# Cheapest house\n",
    "cheapest_house = ds.loc[ds['price'].idxmin()]\n",
    "print(f'The house with address {cheapest_house.address} is the cheapest and its price is {cheapest_house.price}')"
   ]
  },
  {
   "attachments": {},
   "cell_type": "markdown",
   "id": "compliant-fellowship",
   "metadata": {},
   "source": [
    "#### Exercise 03. Which is the biggest and the smallest house in the dataset? (★☆☆)\n",
    "\n",
    "Print both the address and the surface of the selected houses. For example:\n",
    "\n",
    "`The bigger house is located on Yukka Street Nº10 and its surface is 5000 meters`\n",
    "\n",
    "`The smaller house is located on County Road 1 N and its surface is 200 meters`"
   ]
  },
  {
   "cell_type": "code",
   "execution_count": 30,
   "id": "every-tiffany",
   "metadata": {},
   "outputs": [
    {
     "name": "stdout",
     "output_type": "stream",
     "text": [
      "The bigger house is located on Sevilla la Nueva and its surface is 249000.0\n",
      "\n",
      "The smaller house is located on Calle Amparo,  Madrid Capital and its surface is 15.0\n"
     ]
    }
   ],
   "source": [
    "# The Bigger House\n",
    "bigger_house = ds.loc[ds['surface'].idxmax()]\n",
    "print(f'The bigger house is located on {bigger_house.address} and its surface is {bigger_house.surface}\\n')\n",
    "\n",
    "# The Bigger House\n",
    "smaller_house = ds.loc[ds['surface'].idxmin()]\n",
    "print(f'The smaller house is located on {smaller_house.address} and its surface is {smaller_house.surface}')"
   ]
  },
  {
   "attachments": {},
   "cell_type": "markdown",
   "id": "danish-spirit",
   "metadata": {},
   "source": [
    "#### Exercise 04. How many populations (level5 column) the dataset contains? (★☆☆)\n",
    "\n",
    "Print the name of the populations with comma as separator. For example:\n",
    "\n",
    "`> print(populations)`\n",
    "\n",
    "`population1, population2, population3,...`"
   ]
  },
  {
   "cell_type": "code",
   "execution_count": 38,
   "id": "exciting-accreditation",
   "metadata": {},
   "outputs": [
    {
     "name": "stdout",
     "output_type": "stream",
     "text": [
      "['Arganda del Rey', 'Fuenlabrada', 'Boadilla del Monte', 'Las Rozas de Madrid', ' Madrid Capital', 'Villaviciosa de Odón', 'Pinto', 'Valdemoro', 'Navalcarnero', 'Pozuelo de Alarcón', 'Torrejón de Ardoz', 'Navalagamella', 'San Sebastián de los Reyes', 'Rivas-vaciamadrid', 'Alpedrete', 'Móstoles', 'San Fernando de Henares', 'Coslada', 'Becerril de la Sierra', 'Alcalá de Henares', 'Chinchón', 'Parla', 'Alcorcón', 'El Escorial', 'Leganés', 'Pedrezuela', 'Majadahonda', 'Villanueva de la Cañada', 'Villanueva del Pardillo', 'Torrelodones', 'Moralzarzal', 'Mejorada del Campo', 'Aranjuez', 'Corpa', 'Getafe', 'Velilla de San Antonio', 'Sevilla la Nueva', 'San Martín de la Vega', 'Villalbilla', 'Collado Villalba', 'Alcobendas', 'El Molar (Madrid)', 'Moraleja de Enmedio', 'Algete', 'Campo Real', 'Torrejón de la Calzada', 'Colmenar Viejo', 'Valdemorillo', 'Fuente El Saz de Jarama', 'Tres Cantos', 'Arroyomolinos (Madrid)', 'Griñón', 'Paracuellos de Jarama', 'Guadarrama', 'Titulcia', 'Galapagar', 'Collado Mediano', 'Los Molinos', 'San Lorenzo de El Escorial', 'Loeches', 'San Martín de Valdeiglesias', 'Navas del Rey', 'Bustarviejo', 'Manzanares El Real', 'Carabaña', 'Casarrubuelos', 'Cercedilla', 'Fresnedillas de la Oliva', 'Valdemaqueda', 'Robledo de Chavela', 'Miraflores de la Sierra', 'Humanes de Madrid', 'Valdetorres de Jarama', 'San Agustín del Guadalix', 'Ciempozuelos', 'Camarma de Esteruelas', 'Torres de la Alameda', 'Talamanca de Jarama', 'El Atazar', 'Hoyo de Manzanares', 'El Boalo - Cerceda – Mataelpino', 'El Álamo', 'Valdilecha', 'Valdeolmos-Alalpardo', 'Guadalix de la Sierra', 'Belmonte de Tajo', 'El Vellón', 'Brunete', 'Redueña', 'Morata de Tajuña', 'Tielmes', 'Gargantilla del Lozoya', 'Meco', 'Venturada', 'Quijorna', 'Cenicientos', 'Torrejón de Velasco', 'Navacerrada', 'Santa María de la Alameda', 'Orusco de Tajuña', 'Daganzo de Arriba', 'Villamanta', 'Anchuelo', 'Valdaracete', 'Ajalvir', 'Los Santos de la Humosa', 'Villamanrique de Tajo', 'Colmenar de Oreja', 'Villa del Prado', 'Fuentidueña de Tajo', 'Colmenar del Arroyo', 'Valdelaguna', 'Cubas de la Sagra', 'Valdeavero', 'Aldea del Fresno', 'Ribatejada', 'Torrelaguna', 'Batres', 'Pezuela de las Torres', 'Colmenarejo', 'Serranillos del Valle', 'Cobeña', 'Soto del Real', 'El Berrueco', 'Villanueva de Perales', 'Fresno de Torote - Serracines', 'Pozuelo del Rey', 'Pelayos de la Presa', 'La Cabrera', 'Nuevo Baztán', 'Perales de Tajuña', 'Villaconejos', 'Villarejo de Salvanés', 'Cadalso de los Vidrios', 'Santorcaz', 'Madarcos', 'Garganta de los Montes', 'Puentes Viejas', 'Torremocha de Jarama', 'Valdemanco', 'Braojos', 'Lozoyuela-navas-sieteiglesias', 'Piñuécar-gandullas', 'Valdepiélagos', 'Valverde de Alcalá', 'Villar del Olmo', 'Villamantilla', 'Horcajo de la Sierra', 'Gascones', 'Zarzalejo', 'Villavieja del Lozoya', 'Brea de Tajo', 'Estremera', 'Chapinería', 'Navarredonda', 'Patones', 'Ambite', 'Navalafuente', 'Lozoya', 'Canencia', 'Cabanillas de la Sierra', 'Buitrago del Lozoya', 'Fresno de Torote', 'Robregordo', 'Pinilla del Valle', 'Rascafría', 'La Hiruela', 'Montejo de la Sierra']\n"
     ]
    }
   ],
   "source": [
    "# Populations on the dataset\n",
    "populations = list(ds['level5'].unique())\n",
    "print(populations)"
   ]
  },
  {
   "attachments": {},
   "cell_type": "markdown",
   "id": "crazy-blame",
   "metadata": {},
   "source": [
    "#### Exercise 05. Does the dataset contain NAs? (★☆☆)\n",
    "\n",
    "Print a boolean value (`true` or `fase`) followed by the rows/cols that contains NAs."
   ]
  },
  {
   "cell_type": "code",
   "execution_count": 39,
   "id": "transparent-poetry",
=======
   "execution_count": 15,
   "id": "8a758bcf",
>>>>>>> a1568b2e99372e51dbab8b2aa75477676c2d4ca8
   "metadata": {},
   "outputs": [
    {
     "data": {
      "text/plain": [
       "id_realEstates                                              132042636\n",
       "isNew                                                           False\n",
       "realEstate_name                            engel volkers torrelodones\n",
       "phone_realEstate                                          911798512.0\n",
       "url_inmueble        https://www.fotocasa.es/es/comprar/vivienda/vi...\n",
       "rooms                                                            19.0\n",
       "bathrooms                                                         NaN\n",
       "surface                                                           NaN\n",
       "price                                                         8500000\n",
       "date                                             2019-12-19T12:29:00Z\n",
       "description         El Palacio de El Enebral, la finca fue propied...\n",
       "address                                                   El Escorial\n",
       "country                                                        España\n",
       "level1                                                         Madrid\n",
       "level2                                                         Madrid\n",
       "level3                                                  Zona Noroeste\n",
       "level4                                           El Escorial, Zona de\n",
       "level5                                                    El Escorial\n",
       "level6                                                            NaN\n",
       "level7                                             Centro - Manquilla\n",
       "level8                                                            NaN\n",
       "upperLevel                                         Centro - Manquilla\n",
       "countryId                                                           0\n",
       "level1Id                                                            0\n",
       "level2Id                                                            0\n",
       "level3Id                                                            0\n",
       "level4Id                                                            0\n",
       "level5Id                                                            0\n",
       "level6Id                                                            0\n",
       "level7Id                                                            0\n",
       "level8Id                                                            0\n",
       "accuracy                                                            0\n",
       "latitude                                             40,5830801751782\n",
       "longitude                                           -4,12951942848611\n",
       "zipCode                                                           NaN\n",
       "customZone                                                        NaN\n",
       "Name: 13110, dtype: object"
      ]
     },
     "execution_count": 15,
     "metadata": {},
     "output_type": "execute_result"
    }
   ],
   "source": [
    "#What is the most expensive home in the dataset?\n",
    "most_expensive_home_ds = rs_ds.loc[rs_ds['price'].idxmax()]\n",
    "most_expensive_home_ds"
   ]
  },
  {
   "attachments": {},
   "cell_type": "markdown",
   "id": "0a708990",
   "metadata": {},
   "source": [
    "#### What is cheapest home in the dataset? (★☆☆)"
   ]
  },
  {
   "cell_type": "code",
   "execution_count": 16,
   "id": "477e01f4",
   "metadata": {},
   "outputs": [
    {
     "data": {
      "text/plain": [
       "id_realEstates                                              153637952\n",
       "isNew                                                           False\n",
       "realEstate_name                                                esalje\n",
       "phone_realEstate                                          912786497.0\n",
       "url_inmueble        https://www.fotocasa.es/es/comprar/vivienda/ma...\n",
       "rooms                                                             4.0\n",
       "bathrooms                                                         4.0\n",
       "surface                                                         262.0\n",
       "price                                                               0\n",
       "date                                      2019-12-28T18:52:25.965658Z\n",
       "description         ESALJE vende amplio pareado de 268 m2. distrib...\n",
       "address                                                         Parla\n",
       "country                                                        España\n",
       "level1                                                         Madrid\n",
       "level2                                                         Madrid\n",
       "level3                                             Zona Sur de Madrid\n",
       "level4                                                 Parla, Zona de\n",
       "level5                                                          Parla\n",
       "level6                                                            NaN\n",
       "level7                                          Fuentebella - El Nido\n",
       "level8                                                            NaN\n",
       "upperLevel                                      Fuentebella - El Nido\n",
       "countryId                                                           0\n",
       "level1Id                                                            0\n",
       "level2Id                                                            0\n",
       "level3Id                                                            0\n",
       "level4Id                                                            0\n",
       "level5Id                                                            0\n",
       "level6Id                                                            0\n",
       "level7Id                                                            0\n",
       "level8Id                                                            0\n",
       "accuracy                                                            0\n",
       "latitude                                                     40,23202\n",
       "longitude                                                    -3,78132\n",
       "zipCode                                                           NaN\n",
       "customZone                                                        NaN\n",
       "Name: 366, dtype: object"
      ]
     },
     "execution_count": 16,
     "metadata": {},
     "output_type": "execute_result"
    }
   ],
   "source": [
    "#What is the most cheapest home in the dataset?\n",
    "most_cheapest_home_ds = rs_ds.loc[rs_ds['price'].idxmin()]\n",
    "most_cheapest_home_ds"
   ]
  },
  {
   "attachments": {},
   "cell_type": "markdown",
   "id": "0b16cd77",
   "metadata": {},
   "source": [
    "#### What is the biggest and the smallest home in the dataset? (★☆☆)"
   ]
  },
  {
   "cell_type": "code",
   "execution_count": 17,
   "id": "4d9b5975",
   "metadata": {},
   "outputs": [
    {
     "name": "stdout",
     "output_type": "stream",
     "text": [
      "The biggest home is:\n",
      " id_realEstates                                              153936192\n",
      "isNew                                                           False\n",
      "realEstate_name                               habitarium inmobiliaria\n",
      "phone_realEstate                                          916357732.0\n",
      "url_inmueble        https://www.fotocasa.es/es/comprar/vivienda/ma...\n",
      "rooms                                                             3.0\n",
      "bathrooms                                                         2.0\n",
      "surface                                                      249000.0\n",
      "price                                                          289000\n",
      "date                                             2019-12-25T18:30:00Z\n",
      "description         Zona Centro. Chalet pareado de esquina de 249m...\n",
      "address                                              Sevilla la Nueva\n",
      "country                                                        España\n",
      "level1                                                         Madrid\n",
      "level2                                                         Madrid\n",
      "level3                                                  Zona Suroeste\n",
      "level4                                      Sevilla la Nueva, Zona de\n",
      "level5                                               Sevilla la Nueva\n",
      "level6                                                            NaN\n",
      "level7                                                            NaN\n",
      "level8                                                            NaN\n",
      "upperLevel                                           Sevilla la Nueva\n",
      "countryId                                                           0\n",
      "level1Id                                                            0\n",
      "level2Id                                                            0\n",
      "level3Id                                                            0\n",
      "level4Id                                                            0\n",
      "level5Id                                                            0\n",
      "level6Id                                                            0\n",
      "level7Id                                                            0\n",
      "level8Id                                                            0\n",
      "accuracy                                                            0\n",
      "latitude                                                     40,34633\n",
      "longitude                                                    -4,02174\n",
      "zipCode                                                           NaN\n",
      "customZone                                                        NaN\n",
      "Name: 6794, dtype: object\n"
     ]
    }
   ],
   "source": [
    "#What is the biggest home in the dataset\n",
    "biggest_home_ds = rs_ds.loc[rs_ds[('surface')].idxmax()]\n",
    "print('The biggest home is:\\n', biggest_home_ds)"
   ]
  },
  {
   "cell_type": "code",
   "execution_count": 18,
   "id": "5b52b79c",
   "metadata": {},
   "outputs": [
    {
     "name": "stdout",
     "output_type": "stream",
     "text": [
      "The smallest home is:\n",
      " id_realEstates                                              152817874\n",
      "isNew                                                           False\n",
      "realEstate_name                                              toledo21\n",
      "phone_realEstate                                          910757382.0\n",
      "url_inmueble        https://www.fotocasa.es/es/comprar/vivienda/ma...\n",
      "rooms                                                             1.0\n",
      "bathrooms                                                         1.0\n",
      "surface                                                          15.0\n",
      "price                                                           85000\n",
      "date                                     2019-12-28T19:04:44.6433814Z\n",
      "description         ¡NO BUSQUES MÁS, YA LA HAS ENCONTRADO! . \\n \\n...\n",
      "address                                 Calle Amparo,  Madrid Capital\n",
      "country                                                        España\n",
      "level1                                                         Madrid\n",
      "level2                                                         Madrid\n",
      "level3                                                Madrid, Zona de\n",
      "level4                                                            NaN\n",
      "level5                                                 Madrid Capital\n",
      "level6                                                            NaN\n",
      "level7                                                         Centro\n",
      "level8                                         Embajadores - Lavapiés\n",
      "upperLevel                                     Embajadores - Lavapiés\n",
      "countryId                                                           0\n",
      "level1Id                                                            0\n",
      "level2Id                                                            0\n",
      "level3Id                                                            0\n",
      "level4Id                                                            0\n",
      "level5Id                                                            0\n",
      "level6Id                                                            0\n",
      "level7Id                                                            0\n",
      "level8Id                                                            0\n",
      "accuracy                                                            0\n",
      "latitude                                                     40,40818\n",
      "longitude                                                    -3,70192\n",
      "zipCode                                                           NaN\n",
      "customZone                                                        NaN\n",
      "Name: 498, dtype: object\n"
     ]
    }
   ],
   "source": [
    "#What is the biggest and the smallest home in the dataset\n",
    "smallest_home_ds = rs_ds.loc[rs_ds['surface'].idxmin()]\n",
    "print('The smallest home is:\\n', smallest_home_ds)"
   ]
  },
  {
   "attachments": {},
   "cell_type": "markdown",
   "id": "782d4c77",
   "metadata": {},
   "source": [
    "#### How many populations (level5) the dataset contains? (★☆☆)"
   ]
  },
  {
   "cell_type": "code",
   "execution_count": 19,
   "id": "5dbe1a08",
   "metadata": {},
   "outputs": [
    {
     "name": "stdout",
     "output_type": "stream",
     "text": [
      "In level5, there are:  168  populations\n"
     ]
    }
   ],
   "source": [
    "#How many populations (level5) the dataset contains?\n",
    "level5_populations_ds = rs_ds['level5'].nunique()\n",
    "print('In level5, there are: ', level5_populations_ds, ' populations')"
   ]
  },
  {
   "attachments": {},
   "cell_type": "markdown",
   "id": "48d48f01",
   "metadata": {},
   "source": [
    "#### Does the dataset contain NAs? (★☆☆)\n"
   ]
  },
  {
   "cell_type": "code",
   "execution_count": 20,
   "id": "3ed233e7",
   "metadata": {},
   "outputs": [
    {
     "name": "stdout",
     "output_type": "stream",
     "text": [
      "The dataset contains NAs.\n"
     ]
    }
   ],
   "source": [
    "has_nas_ds = rs_ds.isna().any().any()\n",
    "\n",
    "if has_nas_ds:\n",
    "    print('The dataset contains NAs.')\n",
    "else:\n",
    "    print('The dataset does not contain NAs.')"
   ]
  },
  {
   "attachments": {},
   "cell_type": "markdown",
   "id": "4fa39382",
   "metadata": {},
   "source": [
    "#### Delete the NAs of the dataset, if applicable (★★☆)"
   ]
  },
  {
   "cell_type": "code",
   "execution_count": 21,
   "id": "c97757ec",
   "metadata": {},
   "outputs": [
    {
     "data": {
      "text/html": [
       "<div>\n",
       "<style scoped>\n",
       "    .dataframe tbody tr th:only-of-type {\n",
       "        vertical-align: middle;\n",
       "    }\n",
       "\n",
       "    .dataframe tbody tr th {\n",
       "        vertical-align: top;\n",
       "    }\n",
       "\n",
       "    .dataframe thead th {\n",
       "        text-align: right;\n",
       "    }\n",
       "</style>\n",
       "<table border=\"1\" class=\"dataframe\">\n",
       "  <thead>\n",
       "    <tr style=\"text-align: right;\">\n",
       "      <th></th>\n",
       "      <th>id_realEstates</th>\n",
       "      <th>isNew</th>\n",
       "      <th>realEstate_name</th>\n",
       "      <th>phone_realEstate</th>\n",
       "      <th>url_inmueble</th>\n",
       "      <th>rooms</th>\n",
       "      <th>bathrooms</th>\n",
       "      <th>surface</th>\n",
       "      <th>price</th>\n",
       "      <th>date</th>\n",
       "      <th>...</th>\n",
       "      <th>level2Id</th>\n",
       "      <th>level3Id</th>\n",
       "      <th>level4Id</th>\n",
       "      <th>level5Id</th>\n",
       "      <th>level6Id</th>\n",
       "      <th>level7Id</th>\n",
       "      <th>level8Id</th>\n",
       "      <th>accuracy</th>\n",
       "      <th>latitude</th>\n",
       "      <th>longitude</th>\n",
       "    </tr>\n",
       "  </thead>\n",
       "  <tbody>\n",
       "    <tr>\n",
       "      <th>0</th>\n",
<<<<<<< HEAD
       "      <td>False</td>\n",
       "      <td>False</td>\n",
       "      <td>False</td>\n",
       "      <td>False</td>\n",
       "      <td>False</td>\n",
       "      <td>False</td>\n",
       "      <td>False</td>\n",
       "      <td>False</td>\n",
       "      <td>False</td>\n",
       "      <td>False</td>\n",
       "      <td>...</td>\n",
       "      <td>False</td>\n",
       "      <td>False</td>\n",
       "      <td>False</td>\n",
       "      <td>False</td>\n",
       "      <td>False</td>\n",
       "      <td>False</td>\n",
       "      <td>False</td>\n",
       "      <td>False</td>\n",
       "      <td>True</td>\n",
       "      <td>True</td>\n",
       "    </tr>\n",
       "    <tr>\n",
       "      <th>1</th>\n",
       "      <td>False</td>\n",
       "      <td>False</td>\n",
       "      <td>False</td>\n",
       "      <td>False</td>\n",
       "      <td>False</td>\n",
       "      <td>False</td>\n",
       "      <td>False</td>\n",
       "      <td>False</td>\n",
       "      <td>True</td>\n",
       "      <td>False</td>\n",
       "      <td>...</td>\n",
       "      <td>False</td>\n",
       "      <td>False</td>\n",
       "      <td>False</td>\n",
       "      <td>False</td>\n",
       "      <td>False</td>\n",
       "      <td>False</td>\n",
       "      <td>False</td>\n",
       "      <td>False</td>\n",
       "      <td>True</td>\n",
       "      <td>True</td>\n",
       "    </tr>\n",
       "    <tr>\n",
       "      <th>2</th>\n",
       "      <td>False</td>\n",
       "      <td>False</td>\n",
       "      <td>False</td>\n",
       "      <td>False</td>\n",
       "      <td>False</td>\n",
       "      <td>False</td>\n",
       "      <td>False</td>\n",
       "      <td>False</td>\n",
       "      <td>False</td>\n",
       "      <td>False</td>\n",
       "      <td>...</td>\n",
       "      <td>False</td>\n",
       "      <td>False</td>\n",
       "      <td>False</td>\n",
       "      <td>False</td>\n",
       "      <td>False</td>\n",
       "      <td>False</td>\n",
       "      <td>False</td>\n",
       "      <td>False</td>\n",
       "      <td>True</td>\n",
       "      <td>True</td>\n",
       "    </tr>\n",
       "    <tr>\n",
       "      <th>3</th>\n",
       "      <td>False</td>\n",
       "      <td>False</td>\n",
       "      <td>False</td>\n",
       "      <td>False</td>\n",
       "      <td>False</td>\n",
       "      <td>False</td>\n",
       "      <td>False</td>\n",
       "      <td>False</td>\n",
       "      <td>False</td>\n",
       "      <td>False</td>\n",
       "      <td>...</td>\n",
       "      <td>False</td>\n",
       "      <td>False</td>\n",
       "      <td>False</td>\n",
       "      <td>False</td>\n",
       "      <td>False</td>\n",
       "      <td>False</td>\n",
       "      <td>False</td>\n",
       "      <td>False</td>\n",
       "      <td>True</td>\n",
       "      <td>True</td>\n",
       "    </tr>\n",
       "    <tr>\n",
       "      <th>4</th>\n",
       "      <td>False</td>\n",
       "      <td>False</td>\n",
       "      <td>False</td>\n",
       "      <td>False</td>\n",
       "      <td>False</td>\n",
       "      <td>False</td>\n",
       "      <td>False</td>\n",
       "      <td>False</td>\n",
       "      <td>False</td>\n",
       "      <td>False</td>\n",
       "      <td>...</td>\n",
       "      <td>False</td>\n",
       "      <td>False</td>\n",
       "      <td>False</td>\n",
       "      <td>False</td>\n",
       "      <td>False</td>\n",
       "      <td>False</td>\n",
       "      <td>False</td>\n",
       "      <td>False</td>\n",
       "      <td>True</td>\n",
       "      <td>True</td>\n",
=======
       "      <td>153771986</td>\n",
       "      <td>False</td>\n",
       "      <td>ferrari 57 inmobiliaria</td>\n",
       "      <td>912177526.0</td>\n",
       "      <td>https://www.fotocasa.es/es/comprar/vivienda/ma...</td>\n",
       "      <td>3.0</td>\n",
       "      <td>2.0</td>\n",
       "      <td>103.0</td>\n",
       "      <td>195000</td>\n",
       "      <td>2019-12-28T18:27:15.9975027Z</td>\n",
       "      <td>...</td>\n",
       "      <td>0</td>\n",
       "      <td>0</td>\n",
       "      <td>0</td>\n",
       "      <td>0</td>\n",
       "      <td>0</td>\n",
       "      <td>0</td>\n",
       "      <td>0</td>\n",
       "      <td>0</td>\n",
       "      <td>40,2948276786438</td>\n",
       "      <td>-3,44402412135624</td>\n",
       "    </tr>\n",
       "    <tr>\n",
       "      <th>1</th>\n",
       "      <td>153867863</td>\n",
       "      <td>False</td>\n",
       "      <td>tecnocasa fuenlabrada ferrocarril</td>\n",
       "      <td>916358736.0</td>\n",
       "      <td>https://www.fotocasa.es/es/comprar/vivienda/ma...</td>\n",
       "      <td>3.0</td>\n",
       "      <td>1.0</td>\n",
       "      <td>NaN</td>\n",
       "      <td>89000</td>\n",
       "      <td>2019-12-28T18:27:15.9975027Z</td>\n",
       "      <td>...</td>\n",
       "      <td>0</td>\n",
       "      <td>0</td>\n",
       "      <td>0</td>\n",
       "      <td>0</td>\n",
       "      <td>0</td>\n",
       "      <td>0</td>\n",
       "      <td>0</td>\n",
       "      <td>1</td>\n",
       "      <td>40,28674</td>\n",
       "      <td>-3,79351</td>\n",
       "    </tr>\n",
       "    <tr>\n",
       "      <th>2</th>\n",
       "      <td>153430440</td>\n",
       "      <td>False</td>\n",
       "      <td>look find boadilla</td>\n",
       "      <td>916350408.0</td>\n",
       "      <td>https://www.fotocasa.es/es/comprar/vivienda/ma...</td>\n",
       "      <td>2.0</td>\n",
       "      <td>2.0</td>\n",
       "      <td>99.0</td>\n",
       "      <td>390000</td>\n",
       "      <td>2019-12-28T18:27:15.9975027Z</td>\n",
       "      <td>...</td>\n",
       "      <td>0</td>\n",
       "      <td>0</td>\n",
       "      <td>0</td>\n",
       "      <td>0</td>\n",
       "      <td>0</td>\n",
       "      <td>0</td>\n",
       "      <td>0</td>\n",
       "      <td>0</td>\n",
       "      <td>40,4115646786438</td>\n",
       "      <td>-3,90662252135624</td>\n",
       "    </tr>\n",
       "    <tr>\n",
       "      <th>3</th>\n",
       "      <td>152776331</td>\n",
       "      <td>False</td>\n",
       "      <td>tecnocasa fuenlabrada ferrocarril</td>\n",
       "      <td>916358736.0</td>\n",
       "      <td>https://www.fotocasa.es/es/comprar/vivienda/ma...</td>\n",
       "      <td>3.0</td>\n",
       "      <td>1.0</td>\n",
       "      <td>86.0</td>\n",
       "      <td>89000</td>\n",
       "      <td>2019-12-28T18:27:15.9975027Z</td>\n",
       "      <td>...</td>\n",
       "      <td>0</td>\n",
       "      <td>0</td>\n",
       "      <td>0</td>\n",
       "      <td>0</td>\n",
       "      <td>0</td>\n",
       "      <td>0</td>\n",
       "      <td>0</td>\n",
       "      <td>0</td>\n",
       "      <td>40,2853785786438</td>\n",
       "      <td>-3,79508142135624</td>\n",
       "    </tr>\n",
       "    <tr>\n",
       "      <th>4</th>\n",
       "      <td>153180188</td>\n",
       "      <td>False</td>\n",
       "      <td>ferrari 57 inmobiliaria</td>\n",
       "      <td>912177526.0</td>\n",
       "      <td>https://www.fotocasa.es/es/comprar/vivienda/ma...</td>\n",
       "      <td>2.0</td>\n",
       "      <td>2.0</td>\n",
       "      <td>106.0</td>\n",
       "      <td>172000</td>\n",
       "      <td>2019-12-28T18:27:15.9975027Z</td>\n",
       "      <td>...</td>\n",
       "      <td>0</td>\n",
       "      <td>0</td>\n",
       "      <td>0</td>\n",
       "      <td>0</td>\n",
       "      <td>0</td>\n",
       "      <td>0</td>\n",
       "      <td>0</td>\n",
       "      <td>0</td>\n",
       "      <td>40,2998774864376</td>\n",
       "      <td>-3,45226301356237</td>\n",
>>>>>>> a1568b2e99372e51dbab8b2aa75477676c2d4ca8
       "    </tr>\n",
       "    <tr>\n",
       "      <th>...</th>\n",
       "      <td>...</td>\n",
       "      <td>...</td>\n",
       "      <td>...</td>\n",
       "      <td>...</td>\n",
       "      <td>...</td>\n",
       "      <td>...</td>\n",
       "      <td>...</td>\n",
       "      <td>...</td>\n",
       "      <td>...</td>\n",
       "      <td>...</td>\n",
       "      <td>...</td>\n",
       "      <td>...</td>\n",
       "      <td>...</td>\n",
       "      <td>...</td>\n",
       "      <td>...</td>\n",
       "      <td>...</td>\n",
       "      <td>...</td>\n",
       "      <td>...</td>\n",
       "      <td>...</td>\n",
       "      <td>...</td>\n",
       "      <td>...</td>\n",
       "    </tr>\n",
       "    <tr>\n",
       "      <th>15330</th>\n",
<<<<<<< HEAD
       "      <td>False</td>\n",
       "      <td>False</td>\n",
       "      <td>False</td>\n",
       "      <td>False</td>\n",
       "      <td>False</td>\n",
       "      <td>False</td>\n",
       "      <td>False</td>\n",
       "      <td>False</td>\n",
       "      <td>False</td>\n",
       "      <td>False</td>\n",
       "      <td>...</td>\n",
       "      <td>False</td>\n",
       "      <td>False</td>\n",
       "      <td>False</td>\n",
       "      <td>False</td>\n",
       "      <td>False</td>\n",
       "      <td>False</td>\n",
       "      <td>False</td>\n",
       "      <td>False</td>\n",
       "      <td>True</td>\n",
       "      <td>True</td>\n",
       "    </tr>\n",
       "    <tr>\n",
       "      <th>15331</th>\n",
       "      <td>False</td>\n",
       "      <td>False</td>\n",
       "      <td>False</td>\n",
       "      <td>False</td>\n",
       "      <td>False</td>\n",
       "      <td>False</td>\n",
       "      <td>False</td>\n",
       "      <td>False</td>\n",
       "      <td>False</td>\n",
       "      <td>False</td>\n",
       "      <td>...</td>\n",
       "      <td>False</td>\n",
       "      <td>False</td>\n",
       "      <td>False</td>\n",
       "      <td>False</td>\n",
       "      <td>False</td>\n",
       "      <td>False</td>\n",
       "      <td>False</td>\n",
       "      <td>False</td>\n",
       "      <td>True</td>\n",
       "      <td>True</td>\n",
       "    </tr>\n",
       "    <tr>\n",
       "      <th>15332</th>\n",
       "      <td>False</td>\n",
       "      <td>False</td>\n",
       "      <td>False</td>\n",
       "      <td>False</td>\n",
       "      <td>False</td>\n",
       "      <td>False</td>\n",
       "      <td>False</td>\n",
       "      <td>False</td>\n",
       "      <td>False</td>\n",
       "      <td>False</td>\n",
       "      <td>...</td>\n",
       "      <td>False</td>\n",
       "      <td>False</td>\n",
       "      <td>False</td>\n",
       "      <td>False</td>\n",
       "      <td>False</td>\n",
       "      <td>False</td>\n",
       "      <td>False</td>\n",
       "      <td>False</td>\n",
       "      <td>True</td>\n",
       "      <td>True</td>\n",
       "    </tr>\n",
       "    <tr>\n",
       "      <th>15333</th>\n",
       "      <td>False</td>\n",
       "      <td>False</td>\n",
       "      <td>False</td>\n",
       "      <td>False</td>\n",
       "      <td>False</td>\n",
       "      <td>False</td>\n",
       "      <td>False</td>\n",
       "      <td>False</td>\n",
       "      <td>False</td>\n",
       "      <td>False</td>\n",
       "      <td>...</td>\n",
       "      <td>False</td>\n",
       "      <td>False</td>\n",
       "      <td>False</td>\n",
       "      <td>False</td>\n",
       "      <td>False</td>\n",
       "      <td>False</td>\n",
       "      <td>False</td>\n",
       "      <td>False</td>\n",
       "      <td>True</td>\n",
       "      <td>True</td>\n",
       "    </tr>\n",
       "    <tr>\n",
       "      <th>15334</th>\n",
       "      <td>False</td>\n",
       "      <td>False</td>\n",
       "      <td>False</td>\n",
       "      <td>False</td>\n",
       "      <td>False</td>\n",
       "      <td>False</td>\n",
       "      <td>False</td>\n",
       "      <td>False</td>\n",
       "      <td>False</td>\n",
       "      <td>False</td>\n",
       "      <td>...</td>\n",
       "      <td>False</td>\n",
       "      <td>False</td>\n",
       "      <td>False</td>\n",
       "      <td>False</td>\n",
       "      <td>False</td>\n",
       "      <td>False</td>\n",
       "      <td>False</td>\n",
       "      <td>False</td>\n",
       "      <td>True</td>\n",
       "      <td>True</td>\n",
=======
       "      <td>153901377</td>\n",
       "      <td>False</td>\n",
       "      <td>infocasa consulting</td>\n",
       "      <td>911360461.0</td>\n",
       "      <td>https://www.fotocasa.es/es/comprar/vivienda/ma...</td>\n",
       "      <td>2.0</td>\n",
       "      <td>1.0</td>\n",
       "      <td>96.0</td>\n",
       "      <td>259470</td>\n",
       "      <td>2019-12-17T18:19:00Z</td>\n",
       "      <td>...</td>\n",
       "      <td>0</td>\n",
       "      <td>0</td>\n",
       "      <td>0</td>\n",
       "      <td>0</td>\n",
       "      <td>0</td>\n",
       "      <td>0</td>\n",
       "      <td>0</td>\n",
       "      <td>0</td>\n",
       "      <td>40,45416</td>\n",
       "      <td>-3,70286</td>\n",
       "    </tr>\n",
       "    <tr>\n",
       "      <th>15331</th>\n",
       "      <td>150394373</td>\n",
       "      <td>False</td>\n",
       "      <td>inmobiliaria pulpon</td>\n",
       "      <td>912788039.0</td>\n",
       "      <td>https://www.fotocasa.es/es/comprar/vivienda/ma...</td>\n",
       "      <td>3.0</td>\n",
       "      <td>1.0</td>\n",
       "      <td>150.0</td>\n",
       "      <td>165000</td>\n",
       "      <td>2019-12-17T18:19:00Z</td>\n",
       "      <td>...</td>\n",
       "      <td>0</td>\n",
       "      <td>0</td>\n",
       "      <td>0</td>\n",
       "      <td>0</td>\n",
       "      <td>0</td>\n",
       "      <td>0</td>\n",
       "      <td>0</td>\n",
       "      <td>0</td>\n",
       "      <td>40,36652</td>\n",
       "      <td>-3,48951</td>\n",
       "    </tr>\n",
       "    <tr>\n",
       "      <th>15332</th>\n",
       "      <td>153901397</td>\n",
       "      <td>False</td>\n",
       "      <td>tecnocasa torrelodones</td>\n",
       "      <td>912780348.0</td>\n",
       "      <td>https://www.fotocasa.es/es/comprar/vivienda/ma...</td>\n",
       "      <td>4.0</td>\n",
       "      <td>2.0</td>\n",
       "      <td>175.0</td>\n",
       "      <td>495000</td>\n",
       "      <td>2019-12-17T18:19:00Z</td>\n",
       "      <td>...</td>\n",
       "      <td>0</td>\n",
       "      <td>0</td>\n",
       "      <td>0</td>\n",
       "      <td>0</td>\n",
       "      <td>0</td>\n",
       "      <td>0</td>\n",
       "      <td>0</td>\n",
       "      <td>0</td>\n",
       "      <td>40,57444</td>\n",
       "      <td>-3,92124</td>\n",
       "    </tr>\n",
       "    <tr>\n",
       "      <th>15333</th>\n",
       "      <td>152607440</td>\n",
       "      <td>False</td>\n",
       "      <td>inmobiliaria pulpon</td>\n",
       "      <td>912788039.0</td>\n",
       "      <td>https://www.fotocasa.es/es/comprar/vivienda/ma...</td>\n",
       "      <td>3.0</td>\n",
       "      <td>2.0</td>\n",
       "      <td>101.0</td>\n",
       "      <td>195000</td>\n",
       "      <td>2019-12-17T18:18:00Z</td>\n",
       "      <td>...</td>\n",
       "      <td>0</td>\n",
       "      <td>0</td>\n",
       "      <td>0</td>\n",
       "      <td>0</td>\n",
       "      <td>0</td>\n",
       "      <td>0</td>\n",
       "      <td>0</td>\n",
       "      <td>0</td>\n",
       "      <td>40,36967</td>\n",
       "      <td>-3,48105</td>\n",
       "    </tr>\n",
       "    <tr>\n",
       "      <th>15334</th>\n",
       "      <td>153901356</td>\n",
       "      <td>False</td>\n",
       "      <td>infocasa consulting</td>\n",
       "      <td>911360461.0</td>\n",
       "      <td>https://www.fotocasa.es/es/comprar/vivienda/ma...</td>\n",
       "      <td>3.0</td>\n",
       "      <td>2.0</td>\n",
       "      <td>152.0</td>\n",
       "      <td>765000</td>\n",
       "      <td>2019-12-17T18:17:00Z</td>\n",
       "      <td>...</td>\n",
       "      <td>0</td>\n",
       "      <td>0</td>\n",
       "      <td>0</td>\n",
       "      <td>0</td>\n",
       "      <td>0</td>\n",
       "      <td>0</td>\n",
       "      <td>0</td>\n",
       "      <td>0</td>\n",
       "      <td>40,45773</td>\n",
       "      <td>-3,69068</td>\n",
>>>>>>> a1568b2e99372e51dbab8b2aa75477676c2d4ca8
       "    </tr>\n",
       "  </tbody>\n",
       "</table>\n",
       "<p>15335 rows × 34 columns</p>\n",
       "</div>"
      ],
      "text/plain": [
<<<<<<< HEAD
       "       Unnamed: 0  id_realEstates  isNew  realEstate_name  phone_realEstate  \\\n",
       "0           False           False  False            False             False   \n",
       "1           False           False  False            False             False   \n",
       "2           False           False  False            False             False   \n",
       "3           False           False  False            False             False   \n",
       "4           False           False  False            False             False   \n",
       "...           ...             ...    ...              ...               ...   \n",
       "15330       False           False  False            False             False   \n",
       "15331       False           False  False            False             False   \n",
       "15332       False           False  False            False             False   \n",
       "15333       False           False  False            False             False   \n",
       "15334       False           False  False            False             False   \n",
       "\n",
       "       url_inmueble  rooms  bathrooms  surface  price  ...  level4Id  \\\n",
       "0             False  False      False    False  False  ...     False   \n",
       "1             False  False      False     True  False  ...     False   \n",
       "2             False  False      False    False  False  ...     False   \n",
       "3             False  False      False    False  False  ...     False   \n",
       "4             False  False      False    False  False  ...     False   \n",
       "...             ...    ...        ...      ...    ...  ...       ...   \n",
       "15330         False  False      False    False  False  ...     False   \n",
       "15331         False  False      False    False  False  ...     False   \n",
       "15332         False  False      False    False  False  ...     False   \n",
       "15333         False  False      False    False  False  ...     False   \n",
       "15334         False  False      False    False  False  ...     False   \n",
       "\n",
       "       level5Id  level6Id  level7Id  level8Id  accuracy  latitude  longitude  \\\n",
       "0         False     False     False     False     False     False      False   \n",
       "1         False     False     False     False     False     False      False   \n",
       "2         False     False     False     False     False     False      False   \n",
       "3         False     False     False     False     False     False      False   \n",
       "4         False     False     False     False     False     False      False   \n",
       "...         ...       ...       ...       ...       ...       ...        ...   \n",
       "15330     False     False     False     False     False     False      False   \n",
       "15331     False     False     False     False     False     False      False   \n",
       "15332     False     False     False     False     False     False      False   \n",
       "15333     False     False     False     False     False     False      False   \n",
       "15334     False     False     False     False     False     False      False   \n",
       "\n",
       "       zipCode  customZone  \n",
       "0         True        True  \n",
       "1         True        True  \n",
       "2         True        True  \n",
       "3         True        True  \n",
       "4         True        True  \n",
       "...        ...         ...  \n",
       "15330     True        True  \n",
       "15331     True        True  \n",
       "15332     True        True  \n",
       "15333     True        True  \n",
       "15334     True        True  \n",
=======
       "       id_realEstates  isNew                    realEstate_name  \\\n",
       "0           153771986  False            ferrari 57 inmobiliaria   \n",
       "1           153867863  False  tecnocasa fuenlabrada ferrocarril   \n",
       "2           153430440  False                 look find boadilla   \n",
       "3           152776331  False  tecnocasa fuenlabrada ferrocarril   \n",
       "4           153180188  False            ferrari 57 inmobiliaria   \n",
       "...               ...    ...                                ...   \n",
       "15330       153901377  False                infocasa consulting   \n",
       "15331       150394373  False                inmobiliaria pulpon   \n",
       "15332       153901397  False             tecnocasa torrelodones   \n",
       "15333       152607440  False                inmobiliaria pulpon   \n",
       "15334       153901356  False                infocasa consulting   \n",
       "\n",
       "       phone_realEstate                                       url_inmueble  \\\n",
       "0           912177526.0  https://www.fotocasa.es/es/comprar/vivienda/ma...   \n",
       "1           916358736.0  https://www.fotocasa.es/es/comprar/vivienda/ma...   \n",
       "2           916350408.0  https://www.fotocasa.es/es/comprar/vivienda/ma...   \n",
       "3           916358736.0  https://www.fotocasa.es/es/comprar/vivienda/ma...   \n",
       "4           912177526.0  https://www.fotocasa.es/es/comprar/vivienda/ma...   \n",
       "...                 ...                                                ...   \n",
       "15330       911360461.0  https://www.fotocasa.es/es/comprar/vivienda/ma...   \n",
       "15331       912788039.0  https://www.fotocasa.es/es/comprar/vivienda/ma...   \n",
       "15332       912780348.0  https://www.fotocasa.es/es/comprar/vivienda/ma...   \n",
       "15333       912788039.0  https://www.fotocasa.es/es/comprar/vivienda/ma...   \n",
       "15334       911360461.0  https://www.fotocasa.es/es/comprar/vivienda/ma...   \n",
       "\n",
       "       rooms  bathrooms  surface   price                          date  ...  \\\n",
       "0        3.0        2.0    103.0  195000  2019-12-28T18:27:15.9975027Z  ...   \n",
       "1        3.0        1.0      NaN   89000  2019-12-28T18:27:15.9975027Z  ...   \n",
       "2        2.0        2.0     99.0  390000  2019-12-28T18:27:15.9975027Z  ...   \n",
       "3        3.0        1.0     86.0   89000  2019-12-28T18:27:15.9975027Z  ...   \n",
       "4        2.0        2.0    106.0  172000  2019-12-28T18:27:15.9975027Z  ...   \n",
       "...      ...        ...      ...     ...                           ...  ...   \n",
       "15330    2.0        1.0     96.0  259470          2019-12-17T18:19:00Z  ...   \n",
       "15331    3.0        1.0    150.0  165000          2019-12-17T18:19:00Z  ...   \n",
       "15332    4.0        2.0    175.0  495000          2019-12-17T18:19:00Z  ...   \n",
       "15333    3.0        2.0    101.0  195000          2019-12-17T18:18:00Z  ...   \n",
       "15334    3.0        2.0    152.0  765000          2019-12-17T18:17:00Z  ...   \n",
       "\n",
       "      level2Id level3Id level4Id level5Id level6Id level7Id level8Id accuracy  \\\n",
       "0            0        0        0        0        0        0        0        0   \n",
       "1            0        0        0        0        0        0        0        1   \n",
       "2            0        0        0        0        0        0        0        0   \n",
       "3            0        0        0        0        0        0        0        0   \n",
       "4            0        0        0        0        0        0        0        0   \n",
       "...        ...      ...      ...      ...      ...      ...      ...      ...   \n",
       "15330        0        0        0        0        0        0        0        0   \n",
       "15331        0        0        0        0        0        0        0        0   \n",
       "15332        0        0        0        0        0        0        0        0   \n",
       "15333        0        0        0        0        0        0        0        0   \n",
       "15334        0        0        0        0        0        0        0        0   \n",
       "\n",
       "               latitude          longitude  \n",
       "0      40,2948276786438  -3,44402412135624  \n",
       "1              40,28674           -3,79351  \n",
       "2      40,4115646786438  -3,90662252135624  \n",
       "3      40,2853785786438  -3,79508142135624  \n",
       "4      40,2998774864376  -3,45226301356237  \n",
       "...                 ...                ...  \n",
       "15330          40,45416           -3,70286  \n",
       "15331          40,36652           -3,48951  \n",
       "15332          40,57444           -3,92124  \n",
       "15333          40,36967           -3,48105  \n",
       "15334          40,45773           -3,69068  \n",
>>>>>>> a1568b2e99372e51dbab8b2aa75477676c2d4ca8
       "\n",
       "[15335 rows x 34 columns]"
      ]
     },
<<<<<<< HEAD
     "execution_count": 39,
=======
     "execution_count": 21,
>>>>>>> a1568b2e99372e51dbab8b2aa75477676c2d4ca8
     "metadata": {},
     "output_type": "execute_result"
    }
   ],
   "source": [
<<<<<<< HEAD
    "# Does the dataset contain NAs?\n",
    "ds.isna()"
=======
    "#Delete the NAs of the dataset, if applicable\n",
    "ds_cleaned_columns = rs_ds.dropna(axis=0, how='all')\n",
    "ds_cleaned = ds_cleaned_columns.dropna(axis=1, how='all')\n",
    "ds_cleaned"
>>>>>>> a1568b2e99372e51dbab8b2aa75477676c2d4ca8
   ]
  },
  {
   "attachments": {},
   "cell_type": "markdown",
<<<<<<< HEAD
   "id": "italic-hydrogen",
   "metadata": {},
   "source": [
    "#### Exercise 06. Delete the NAs of the dataset, if applicable (★★☆)\n",
    "\n",
    "Print a comparison between the dimensions of the original DataFrame versus the DataFrame after the deletions"
=======
   "id": "0e5f76de",
   "metadata": {},
   "source": [
    "#### What is the mean of prices in the population (level5) of \"Arroyomolinos (Madrid)\"? (★★☆)"
>>>>>>> a1568b2e99372e51dbab8b2aa75477676c2d4ca8
   ]
  },
  {
   "cell_type": "code",
<<<<<<< HEAD
   "execution_count": 63,
   "id": "administrative-roads",
=======
   "execution_count": 22,
   "id": "327f7adb",
>>>>>>> a1568b2e99372e51dbab8b2aa75477676c2d4ca8
   "metadata": {},
   "outputs": [
    {
     "name": "stdout",
     "output_type": "stream",
     "text": [
<<<<<<< HEAD
      "The dimension of the original dataset is (15335, 37) and after the deletions the dimension of the dataset is (15335, 35)\n"
=======
      "The mean price of the population Arroyomolinos (Madrid) is:  294541.59854014596\n"
>>>>>>> a1568b2e99372e51dbab8b2aa75477676c2d4ca8
     ]
    }
   ],
   "source": [
<<<<<<< HEAD
    "# Delete NAs\n",
    "ds_columns_clean = ds.dropna(how = 'all', axis='columns')\n",
    "ds_clean = ds_columns_clean.dropna(how = 'all')\n",
    "print(f'The dimension of the original dataset is {ds.shape} and after the deletions the dimension of the dataset is {ds_clean.shape}')"
=======
    "#What is the mean of prices in the population (level5) of \"Arroyomolinos (Madrid)\"?\n",
    "mean_price_arroyomolinos = ds_cleaned.groupby(['level5'])['price'].mean()\n",
    "print('The mean price of the population Arroyomolinos (Madrid) is: ', mean_price_arroyomolinos['Arroyomolinos (Madrid)'])"
>>>>>>> a1568b2e99372e51dbab8b2aa75477676c2d4ca8
   ]
  },
  {
   "attachments": {},
   "cell_type": "markdown",
<<<<<<< HEAD
   "id": "middle-china",
   "metadata": {},
   "source": [
    "#### Exercise 07. Which is the mean of prices in the population (level5 column) of \"Arroyomolinos (Madrid)\"? (★★☆)\n",
    "\n",
    "Print the obtained value"
=======
   "id": "89b548e3",
   "metadata": {},
   "source": [
    "#### Plot the histogram of prices for the population (level5) of \"Arroyomolinos (Madrid)\" and explain what you observe (★★☆)"
>>>>>>> a1568b2e99372e51dbab8b2aa75477676c2d4ca8
   ]
  },
  {
   "cell_type": "code",
<<<<<<< HEAD
   "execution_count": 64,
   "id": "nuclear-belief",
   "metadata": {},
   "outputs": [
    {
     "name": "stdout",
     "output_type": "stream",
     "text": [
      "The mean of prices in the population of \"Arroyomolinos (Madrid) is 294541.6\n"
     ]
    }
   ],
   "source": [
    "# Mean price at Arroyomolinos (Madrid)\n",
    "mean_price_arroyomolinos = ds_clean.loc[(ds_clean['level5'] == 'Arroyomolinos (Madrid)')]['price'].mean()\n",
    "print(f'The mean of prices in the population of \"Arroyomolinos (Madrid) is {round(mean_price_arroyomolinos, 2)}')"
   ]
  },
  {
   "attachments": {},
   "cell_type": "markdown",
   "id": "concerned-radical",
   "metadata": {},
   "source": [
    "#### Exercise 08. Plot the histogram of prices for the population (level5 column) of \"Arroyomolinos (Madrid)\" and explain what you observe (★★☆)\n",
    "\n",
    "Print the histogram of the prices and write in the Markdown cell a brief analysis about the plot."
   ]
  },
  {
   "cell_type": "code",
   "execution_count": 65,
   "id": "sudden-message",
=======
   "execution_count": 23,
   "id": "2ba51bf7",
>>>>>>> a1568b2e99372e51dbab8b2aa75477676c2d4ca8
   "metadata": {},
   "outputs": [
    {
     "data": {
<<<<<<< HEAD
      "text/plain": [
       "<Axes: >"
      ]
     },
     "execution_count": 65,
     "metadata": {},
     "output_type": "execute_result"
    },
    {
     "data": {
      "image/png": "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",
=======
      "image/png": "iVBORw0KGgoAAAANSUhEUgAAAkYAAAHHCAYAAABa2ZeMAAAAOXRFWHRTb2Z0d2FyZQBNYXRwbG90bGliIHZlcnNpb24zLjcuMiwgaHR0cHM6Ly9tYXRwbG90bGliLm9yZy8pXeV/AAAACXBIWXMAAA9hAAAPYQGoP6dpAABByklEQVR4nO3deVxVdf7H8fcV5IIoILJJIqCi5m6uTLklhmRNppaapTaWZZhjNpU25dIy2OZojWlTo5a5Tbk0mWnube5FZhq5YFqJmgYoKoh8f390uL+ugMIVuYiv5+NxHw/v93zP93zOlwv37bnnnGszxhgBAABAldxdAAAAQHlBMAIAALAQjAAAACwEIwAAAAvBCAAAwEIwAgAAsBCMAAAALAQjAAAAC8EIAADAQjBCiQ0ePFhRUVHuLuOSLF++XC1atJC3t7dsNpvS09PdXZLLOnfurM6dO5fqmOPHj5fNZivVMVF2bDabxo8f73g+a9Ys2Ww27d+/3201XczmzZvl5eWlH3/80d2llHi+oqKiNHjwYJfGbd++vR5//HHXCsVlQTC6yuT/YuY/vL29Vb9+fQ0fPlyHDx92d3ll4tixY7rzzjvl4+OjqVOnavbs2fL19S20b0Wer1OnTmn8+PFat26du0spVHp6uiO47tq1y93l4DL7+9//rv79+ysyMtLR1rlzZ9lsNsXExBS6zsqVKx2/m++//35ZlVqqnnjiCU2dOlVpaWnuLgUWT3cXAPd45plnFB0drTNnzujzzz/XtGnTtGzZMu3YsUNVqlS54Lpvvvmm8vLyyqjS0rdlyxadOHFCzz77rOLi4oq1zqXMV3l16tQpTZgwQZIKHHF66qmnNHr0aDdU9f/ee+892Ww2hYWFac6cOXruuefcWs+V7J577lG/fv1kt9vdXUqhkpOTtWrVKn355ZcFlnl7e2vPnj3avHmz2rZt67Rszpw58vb21pkzZ8qq1EKlpKSoUiXXjjPcdttt8vPz0+uvv65nnnmmlCuDKzhidJVKSEjQ3Xffrfvuu0+zZs3SyJEjlZqaqg8++KDIdbKysiRJlStXLrd/YIvjyJEjkqSAgIBir+PKfF3JPD095e3t7dYa3n33Xd18883q37+/5s6dW+z1Tp06VWh7bm6ucnJySqu8K4qHh4fj6Ft5NHPmTNWuXVvt27cvsKxu3bpq0KCB5s2b59R+5swZLV68WD169CirMp0YY3T69GlJkt1uV+XKlV0ap1KlSurTp4/eeecd8Z3u5QPBCJKkG2+8UZKUmpoq6ffziKpWraq9e/fq5ptvVrVq1TRgwADHsvPPMcrLy9OUKVPUtGlTeXt7Kzg4WN27d9fWrVud+r377rtq1aqVfHx8FBgYqH79+ungwYNOfXbv3q3evXsrLCxM3t7eqlWrlvr166eMjIyL7sd7773nGD8oKEh33323fv75Z8fyzp07a9CgQZKkNm3ayGazFevcgPOdP1+5ubl69tlnVbduXdntdkVFRenJJ59Udna203pRUVG65ZZb9MknnzjOcWrUqJEWLVrk1K+oc3yKc+5DTk6Oxo4dq1atWsnf31++vr7q0KGD1q5d6+izf/9+BQcHS5ImTJjg+Dgi/7yUwrZf0n38/PPP1bZtW3l7e6tOnTp65513LjCjzg4cOKDPPvtM/fr1U79+/ZSamlro0YTOnTurSZMm2rZtmzp27KgqVaroySef1P79+2Wz2fTyyy9r8uTJjpp37twpSVqzZo06dOggX19fBQQE6LbbbnP6uG7t2rWy2WxavHhxgW3OnTtXNptNGzZscLRdbLw/zukPP/ygu+++W/7+/goODtbTTz8tY4wOHjzoOHoQFhamV155pcC2jxw5oiFDhig0NFTe3t5q3ry53n777YvOZ2Gvm5L8nPbt26c77rhDgYGBqlKlitq3b6+PPvqoQL/XXntNjRs3VpUqVVS9enW1bt26WKF2yZIluvHGG4sMbv3799eCBQucjlR/+OGHOnXqlO68884C/X/88Uc99NBDatCggXx8fFSjRg3dcccdhf7efPfdd7rxxhvl4+OjWrVq6bnnniv0iHj+fK1YsUKtW7eWj4+P3njjDcey8/+OFHdcSerWrZt+/PFHJScnFzFDKEsEI0iS9u7dK0mqUaOGoy03N1fx8fEKCQnRyy+/rN69exe5/pAhQzRy5EhFRETohRde0OjRo+Xt7a2NGzc6+jz//PMaOHCgYmJiNGnSJI0cOVKrV69Wx44dHSc/5+TkKD4+Xhs3btTDDz+sqVOnaujQodq3b99FT5CeNWuW7rzzTnl4eCgpKUn333+/Fi1apBtuuMGx7t///ncNHTpU0u8fj82ePVsPPPDAJc/Xfffdp7Fjx+q6667TP//5T3Xq1ElJSUnq169fgXV3796tvn37KiEhQUlJSfL09NQdd9yhlStXlriOwmRmZuqtt95S586d9cILL2j8+PE6evSo4uPjHX94g4ODNW3aNEnS7bffrtmzZ2v27Nnq1atXkeOWZB/37NmjPn36qFu3bnrllVdUvXp1DR48WN99912x9mHevHny9fXVLbfcorZt26pu3bqaM2dOoX2PHTumhIQEtWjRQpMnT1aXLl0cy2bOnKnXXntNQ4cO1SuvvKLAwECtWrVK8fHxOnLkiMaPH69Ro0bpyy+/1PXXX+944+zcubMiIiIK3eacOXNUt25dxcbGSlKxxvujvn37Ki8vTxMnTlS7du303HPPafLkyerWrZuuueYavfDCC6pXr57+9re/6dNPP3Wsd/r0aXXu3FmzZ8/WgAED9NJLL8nf31+DBw/WlClTijWv5yvOz+nw4cP605/+pBUrVuihhx7S888/rzNnzujPf/6zU3B88803NWLECDVq1EiTJ0/WhAkT1KJFC23atOmCNfz88886cOCArrvuuiL73HXXXTp06JDT+XBz585V165dFRISUqD/li1b9OWXX6pfv3569dVX9eCDD2r16tXq3Lmz0xHFtLQ0denSRcnJyRo9erRGjhypd955p8j5TElJUf/+/dWtWzdNmTJFLVq0KLRfScdt1aqVJOmLL74ocg5QhgyuKjNnzjSSzKpVq8zRo0fNwYMHzfz5802NGjWMj4+P+emnn4wxxgwaNMhIMqNHjy4wxqBBg0xkZKTj+Zo1a4wkM2LEiAJ98/LyjDHG7N+/33h4eJjnn3/eafm3335rPD09He1ff/21kWTee++9Eu1XTk6OCQkJMU2aNDGnT592tC9dutRIMmPHji0wB1u2bLnouMWZr+TkZCPJ3HfffU7r/u1vfzOSzJo1axxtkZGRRpJZuHChoy0jI8PUrFnTtGzZ0tE2btw4U9ivZ349qampjrZOnTqZTp06OZ7n5uaa7Oxsp/V+++03Exoaav7yl7842o4ePWokmXHjxhXYzvnbd2UfP/30U0fbkSNHjN1uN48++miBbRWmadOmZsCAAY7nTz75pAkKCjJnz5516tepUycjyUyfPt2pPTU11Ugyfn5+5siRI07LWrRoYUJCQsyxY8ccbd98842pVKmSGThwoKNtzJgxxm63m/T0dKf98PT0dJqz4o6XP6dDhw51tOXm5ppatWoZm81mJk6c6Gj/7bffjI+Pjxk0aJCjbfLkyUaSeffddx1tOTk5JjY21lStWtVkZmY62s//uRb2uinuz2nkyJFGkvnss88cbSdOnDDR0dEmKirKnDt3zhhjzG233WYaN25sSmrVqlVGkvnwww8LLOvUqZNjzNatW5shQ4YYY36fHy8vL/P222+btWvXFvibcerUqQJjbdiwwUgy77zzToF927Rpk9Mc+Pv7Fzlfy5cvLzB2ZGSk08+qJOPm8/LyMsOGDStkhlDWOGJ0lYqLi1NwcLAiIiLUr18/Va1aVYsXL9Y111zj1G/YsGEXHWvhwoWy2WwaN25cgWX5h8YXLVqkvLw83Xnnnfr1118dj7CwMMXExDg+5vH395ckrVixoshzRQqzdetWHTlyRA899JDTuTE9evRQw4YNCz3sXxIXmq9ly5ZJkkaNGuW0zqOPPipJBbYdHh6u22+/3fHcz89PAwcO1Ndff10qV6Z4eHjIy8tL0u8fcR4/fly5ublq3bq1vvrqK5fGLOk+NmrUSB06dHA8Dw4OVoMGDbRv376Lbmv79u369ttv1b9/f0db//799euvv2rFihUF+tvtdt17772FjtW7d2/HR4aSdOjQISUnJ2vw4MEKDAx0tDdr1kzdunVz7KckDRw4UNnZ2U5XOy1YsEC5ubm6++67Szxevvvuu8/xbw8PD7Vu3VrGGA0ZMsTRHhAQUGC+li1bprCwMKd5qVy5skaMGKGTJ09q/fr1hc7BhRTn57Rs2TK1bdtWN9xwg6OtatWqGjp0qPbv3+/4eDIgIEA//fSTtmzZUqIajh07JkmqXr36BfvdddddWrRokXJycvT+++/Lw8PD6ffoj3x8fBz/Pnv2rI4dO6Z69eopICDA6Xdg2bJlat++vdNJ3cHBwY7TBs4XHR2t+Pj4i+5TSceVft//X3/99aJj4/IjGF2lpk6dqpUrV2rt2rXauXOn9u3bV+AX3tPTU7Vq1broWHv37lV4eLjTG8P5du/eLWOMYmJiFBwc7PTYtWuX44To6OhojRo1Sm+99ZaCgoIUHx+vqVOnXvT8ovx7nzRo0KDAsoYNG17yvVEuNF8//vijKlWqpHr16jmtExYWpoCAgALbrlevXoFzKerXry9JpXafmbffflvNmjWTt7e3atSooeDgYH300UfFOk+rMCXdx9q1axcYo3r16vrtt98uuq13331Xvr6+qlOnjvbs2aM9e/bI29tbUVFRhX60dc011ziC4Pmio6ML7IdU+Ovk2muv1a+//uq4yKBhw4Zq06aN0zbnzJmj9u3bO+ahJOPlO39u/P395e3traCgoALtf5yvH3/8UTExMQWufrr22mudaimJ4vycfvzxxyL374/bfeKJJ1S1alW1bdtWMTExSkxMLNFHQ+YiJx7nn2f48ccfa86cObrllltUrVq1QvuePn1aY8eOVUREhOx2u4KCghQcHKz09HSn34H8OT1fYfsrFXw9FaWk40q/7395PTn+asPl+leptm3bqnXr1hfsY7fbXb4E9Xx5eXmy2Wz6+OOP5eHhUWB51apVHf9+5ZVXNHjwYH3wwQf65JNPNGLECCUlJWnjxo3FCmqXQ3HmqzT/qBU11rlz5y667rvvvqvBgwerZ8+eeuyxxxQSEuI47yr/3KjSrut8hf2MpYu/+RljNG/ePGVlZalRo0YFlh85ckQnT550er388ejA+S60rDgGDhyov/71r/rpp5+UnZ2tjRs36l//+tcljVnY3Lg6X5eqNLd77bXXKiUlRUuXLtXy5cu1cOFCvf766xo7dqzjthCFyT9P72KhuWbNmurcubNeeeUVffHFF1q4cGGRfR9++GHNnDlTI0eOVGxsrPz9/WWz2dSvX79LutXIpb6eLiQ9Pb1AOIZ7EIxwyerWrasVK1bo+PHjRR41qlu3rowxio6OdhwduZCmTZuqadOmeuqppxwnsk6fPr3Ie9nk3xQuJSXFccVYvpSUFKebxpW2yMhI5eXlaffu3Y7/RUu/n7Sanp5eYNt79uwp8L/DH374QZIcV/vlf6yQnp7udFuB4hwVeP/991WnTh0tWrTIaRvnf9RZkiBX0n101fr16/XTTz/pmWeecdqO9Psb59ChQ7VkyRLHR1kl9cfXyfm+//57BQUFOd3ss1+/fho1apTmzZun06dPq3Llyurbt6/L412KyMhIbd++XXl5eU7/Yfn++++dailtkZGRRe7f+dv19fVV37591bdvX+Xk5KhXr156/vnnNWbMmCJv/9CwYUNJ/3+F54Xcdddduu+++xQQEKCbb765yH7vv/++Bg0a5HRl35kzZwpcwBEZGandu3cXWL+w/S2Jko77888/Kycnp8BrHu7BR2m4ZL1795YxptD/Feb/z7NXr17y8PDQhAkTCvxv1BjjOM8gMzNTubm5TsubNm2qSpUqFbgs/I9at26tkJAQTZ8+3anfxx9/rF27dl3We53k/4GePHmyU/ukSZMkqcC2f/nlF6ereTIzM/XOO++oRYsWCgsLk/R7kJTkdFVSVlZWsS7Nzj8K8Md53rRpk9Pl5ZIcN6YsztehlHQfXZX/Mdpjjz2mPn36OD3uv/9+xcTEFHl1WnHUrFlTLVq00Ntvv+203zt27NAnn3xS4M02KChICQkJevfddzVnzhx1797d6X/1JR3vUtx8881KS0vTggULHG25ubl67bXXVLVqVXXq1KnUtnX+djdv3uz0+snKytK///1vRUVFOY7s5f8O5/Py8lKjRo1kjNHZs2eLHP+aa65RREREgVt7FKZPnz4aN26cXn/99SI/PpV+/x04/+/Ma6+9VuCI680336yNGzdq8+bNjrajR49e0mvMlXG3bdsmSfrTn/50SdtF6eCIES5Zly5ddM899+jVV1/V7t271b17d+Xl5emzzz5Tly5dNHz4cNWtW1fPPfecxowZo/3796tnz56qVq2aUlNTtXjxYg0dOlR/+9vftGbNGg0fPlx33HGH6tevr9zcXM2ePVseHh4XvF1A5cqV9cILL+jee+9Vp06d1L9/fx0+fFhTpkxRVFSUHnnkkcu2/82bN9egQYP073//W+np6erUqZM2b96st99+Wz179nS6fFz6/XyiIUOGaMuWLQoNDdWMGTN0+PBhzZw509HnpptuUu3atTVkyBA99thj8vDw0IwZMxQcHKwDBw5csJ5bbrlFixYt0u23364ePXooNTVV06dPV6NGjXTy5ElHPx8fHzVq1EgLFixQ/fr1FRgYqCZNmqhJkyaXvI+uyM7O1sKFC9WtW7cijy78+c9/1pQpU3TkyJFCL9MujpdeekkJCQmKjY3VkCFDdPr0ab322mvy9/d3+n6xfAMHDlSfPn0kSc8+++wlj+eqoUOH6o033tDgwYO1bds2RUVF6f3339cXX3yhyZMnF3m+zaUaPXq05s2bp4SEBI0YMUKBgYF6++23lZqaqoULFzqOXt10000KCwvT9ddfr9DQUO3atUv/+te/1KNHj4vWdtttt2nx4sUXPc+muHN6yy23aPbs2fL391ejRo20YcMGrVq1yul2JJL0+OOPa/bs2erevbv++te/ytfXV//+978dR+dcVdJxV65cqdq1a6tly5YubxOlqKwvg4N7FfdS9UGDBhlfX98il/3xcn1jfr/s+KWXXjINGzY0Xl5eJjg42CQkJJht27Y59Vu4cKG54YYbjK+vr/H19TUNGzY0iYmJJiUlxRhjzL59+8xf/vIXU7duXePt7W0CAwNNly5dzKpVq4q1fwsWLDAtW7Y0drvdBAYGmgEDBjhuQVDSOShJ37Nnz5oJEyaY6OhoU7lyZRMREWHGjBljzpw549QvMjLS9OjRw6xYscI0a9bM2O1207Bhw0JvT7Bt2zbTrl074+XlZWrXrm0mTZpUrMv18/LyzD/+8Q8TGRlp7Ha7admypVm6dGmhP7cvv/zStGrVynh5eTld4l3Y7QJKuo/nO7/O8y1cuNBIMv/5z3+K7LNu3TojyUyZMsUxZmGXiOdfrv/SSy8VOs6qVavM9ddfb3x8fIyfn5+59dZbzc6dOwvtm52dbapXr278/f2dbgVR0vHy5/To0aNO7UX9rhW2b4cPHzb33nuvCQoKMl5eXqZp06Zm5syZBdZVMS/XL+7Pae/evaZPnz4mICDAeHt7m7Zt25qlS5c69XnjjTdMx44dTY0aNYzdbjd169Y1jz32mMnIyCiwjfN99dVXBW4JUNQcnK+wy/V/++03xzxVrVrVxMfHm++//77AZfXGGLN9+3bTqVMn4+3tba655hrz7LPPmv/85z/Fnq/8Za6Oe+7cOVOzZk3z1FNPXXA/UXZsxnAPcqCsREVFqUmTJlq6dKm7S0Ex5ebmKjw8XLfeeqv+85//uLucCqtr164KDw/X7Nmz3V1KmVqyZInuuusu7d27VzVr1nR3ORDnGAHABS1ZskRHjx7VwIED3V1KhfaPf/xDCxYsuORba1xpXnjhBQ0fPpxQVI5wxAgoQxwxunJs2rRJ27dv17PPPqugoCCXb44J4MrCESMAKMS0adM0bNgwhYSElOgLcAFc2ThiBAAAYOGIEQAAgIVgBAAAYKnwN3jMy8vTL7/8omrVqvEFfQAAXCGMMTpx4oTCw8NL7Xs7i6PCB6NffvlFERER7i4DAAC44ODBg2X6BeIVPhjl34r+4MGD8vPzc3M1AACgODIzMxUREXHZvu6mKBU+GOV/fObn50cwAgDgClPWp8Fw8jUAAICFYAQAAGAhGAEAAFgIRgAAABaCEQAAgIVgBAAAYCEYAQAAWAhGAAAAFoIRAACAhWAEAABgIRgBAABYCEYAAAAWghEAAICFYAQAAGAhGAEAAFg83V0AgPIjavRH7i7hqrB/Yg93lwCgCBwxAgAAsBCMAAAALAQjAAAAC8EIAADAQjACAACwEIwAAAAsBCMAAAALwQgAAMBCMAIAALAQjAAAACwEIwAAAAvBCAAAwEIwAgAAsBCMAAAALAQjAAAAC8EIAADAQjACAACwEIwAAAAsBCMAAAALwQgAAMDi6e4CgIoqavRH7i4BAFBCHDECAACwEIwAAAAsBCMAAAALwQgAAMBCMAIAALC4NRhNmzZNzZo1k5+fn/z8/BQbG6uPP/7YsfzMmTNKTExUjRo1VLVqVfXu3VuHDx92Y8UAAKAic2swqlWrliZOnKht27Zp69atuvHGG3Xbbbfpu+++kyQ98sgj+vDDD/Xee+9p/fr1+uWXX9SrVy93lgwAACowmzHGuLuIPwoMDNRLL72kPn36KDg4WHPnzlWfPn0kSd9//72uvfZabdiwQe3bty/WeJmZmfL391dGRob8/PwuZ+mAE+5jhKLsn9jD3SUA5Z673r/LzTlG586d0/z585WVlaXY2Fht27ZNZ8+eVVxcnKNPw4YNVbt2bW3YsMGNlQIAgIrK7Xe+/vbbbxUbG6szZ86oatWqWrx4sRo1aqTk5GR5eXkpICDAqX9oaKjS0tKKHC87O1vZ2dmO55mZmZerdAAAUMG4/YhRgwYNlJycrE2bNmnYsGEaNGiQdu7c6fJ4SUlJ8vf3dzwiIiJKsVoAAFCRuT0YeXl5qV69emrVqpWSkpLUvHlzTZkyRWFhYcrJyVF6erpT/8OHDyssLKzI8caMGaOMjAzH4+DBg5d5DwAAQEXh9mB0vry8PGVnZ6tVq1aqXLmyVq9e7ViWkpKiAwcOKDY2tsj17Xa74/L//AcAAEBxuPUcozFjxighIUG1a9fWiRMnNHfuXK1bt04rVqyQv7+/hgwZolGjRikwMFB+fn56+OGHFRsbW+wr0gAAAErCrcHoyJEjGjhwoA4dOiR/f381a9ZMK1asULdu3SRJ//znP1WpUiX17t1b2dnZio+P1+uvv+7OkgEAQAVW7u5jVNq4jxHchfsYoSjcxwi4uKv+PkYAAADuRjACAACwEIwAAAAsBCMAAAALwQgAAMBCMAIAALAQjAAAACwEIwAAAAvBCAAAwEIwAgAAsBCMAAAALAQjAAAAC8EIAADAQjACAACwEIwAAAAsnu4uAACuNlGjP3J3CSW2f2IPd5cAlAmOGAEAAFgIRgAAABaCEQAAgIVgBAAAYCEYAQAAWAhGAAAAFoIRAACAhWAEAABgIRgBAABYCEYAAAAWghEAAICFYAQAAGAhGAEAAFgIRgAAABaCEQAAgIVgBAAAYCEYAQAAWAhGAAAAFoIRAACAhWAEAABgIRgBAABYCEYAAAAWghEAAICFYAQAAGAhGAEAAFgIRgAAABaCEQAAgMWtwSgpKUlt2rRRtWrVFBISop49eyolJcWpT+fOnWWz2ZweDz74oJsqBgAAFZlbg9H69euVmJiojRs3auXKlTp79qxuuukmZWVlOfW7//77dejQIcfjxRdfdFPFAACgIvN058aXL1/u9HzWrFkKCQnRtm3b1LFjR0d7lSpVFBYWVtblAQCAq0y5OscoIyNDkhQYGOjUPmfOHAUFBalJkyYaM2aMTp06VeQY2dnZyszMdHoAAAAUh1uPGP1RXl6eRo4cqeuvv15NmjRxtN91112KjIxUeHi4tm/frieeeEIpKSlatGhRoeMkJSVpwoQJZVU2AACoQGzGGOPuIiRp2LBh+vjjj/X555+rVq1aRfZbs2aNunbtqj179qhu3boFlmdnZys7O9vxPDMzUxEREcrIyJCfn99lqR0oTNToj9xdAlBq9k/s4e4ScJXJzMyUv79/mb9/l4sjRsOHD9fSpUv16aefXjAUSVK7du0kqchgZLfbZbfbL0udAACgYnNrMDLG6OGHH9bixYu1bt06RUdHX3Sd5ORkSVLNmjUvc3UAAOBq49ZglJiYqLlz5+qDDz5QtWrVlJaWJkny9/eXj4+P9u7dq7lz5+rmm29WjRo1tH37dj3yyCPq2LGjmjVr5s7SAQBABeTWYDRt2jRJv9/E8Y9mzpypwYMHy8vLS6tWrdLkyZOVlZWliIgI9e7dW0899ZQbqgUAABWd2z9Ku5CIiAitX7++jKoBAABXu3J1HyMAAAB3IhgBAABYCEYAAAAWghEAAICFYAQAAGAhGAEAAFgIRgAAABaCEQAAgIVgBAAAYCEYAQAAWAhGAAAAFoIRAACAhWAEAABgIRgBAABYCEYAAAAWghEAAICFYAQAAGAhGAEAAFgIRgAAABaCEQAAgIVgBAAAYCEYAQAAWAhGAAAAFoIRAACAhWAEAABgIRgBAABYCEYAAAAWghEAAICFYAQAAGAhGAEAAFgIRgAAABaCEQAAgIVgBAAAYCEYAQAAWAhGAAAAFoIRAACAhWAEAABgIRgBAABYCEYAAAAWghEAAICFYAQAAGAhGAEAAFjcGoySkpLUpk0bVatWTSEhIerZs6dSUlKc+pw5c0aJiYmqUaOGqlatqt69e+vw4cNuqhgAAFRkLgWjqKgoPfPMMzpw4MAlbXz9+vVKTEzUxo0btXLlSp09e1Y33XSTsrKyHH0eeeQRffjhh3rvvfe0fv16/fLLL+rVq9clbRcAAKAwNmOMKelKkydP1qxZs7Rjxw516dJFQ4YM0e233y673X5JxRw9elQhISFav369OnbsqIyMDAUHB2vu3Lnq06ePJOn777/Xtddeqw0bNqh9+/YXHTMzM1P+/v7KyMiQn5/fJdUHlETU6I/cXQJQavZP7OHuEnCVcdf7t0tHjEaOHKnk5GRt3rxZ1157rR5++GHVrFlTw4cP11dffeVyMRkZGZKkwMBASdK2bdt09uxZxcXFOfo0bNhQtWvX1oYNGwodIzs7W5mZmU4PAACA4rikc4yuu+46vfrqq/rll180btw4vfXWW2rTpo1atGihGTNmqCQHo/Ly8jRy5Ehdf/31atKkiSQpLS1NXl5eCggIcOobGhqqtLS0QsdJSkqSv7+/4xEREeHy/gEAgKvLJQWjs2fP6r///a/+/Oc/69FHH1Xr1q311ltvqXfv3nryySc1YMCAYo+VmJioHTt2aP78+ZdSksaMGaOMjAzH4+DBg5c0HgAAuHp4urLSV199pZkzZ2revHmqVKmSBg4cqH/+859q2LCho8/tt9+uNm3aFGu84cOHa+nSpfr0009Vq1YtR3tYWJhycnKUnp7udNTo8OHDCgsLK3Qsu91+yec6AQCAq5NLR4zatGmj3bt3a9q0afr555/18ssvO4UiSYqOjla/fv0uOI4xRsOHD9fixYu1Zs0aRUdHOy1v1aqVKleurNWrVzvaUlJSdODAAcXGxrpSOgAAQJFcOmK0b98+RUZGXrCPr6+vZs6cecE+iYmJmjt3rj744ANVq1bNcd6Qv7+/fHx85O/vryFDhmjUqFEKDAyUn5+fHn74YcXGxhbrijQAAICScCkYHTlyRGlpaWrXrp1T+6ZNm+Th4aHWrVsXa5xp06ZJkjp37uzUPnPmTA0ePFiS9M9//lOVKlVS7969lZ2drfj4eL3++uuulA0AAHBBLn2UlpiYWOhJzT///LMSExOLPY4xptBHfiiSJG9vb02dOlXHjx9XVlaWFi1aVOT5RQAAAJfCpWC0c+dOXXfddQXaW7ZsqZ07d15yUQAAAO7gUjCy2+2Ffl/ZoUOH5Onp0qdzAAAAbudSMLrpppsc9wvKl56erieffFLdunUrteIAAADKkkuHd15++WV17NhRkZGRatmypSQpOTlZoaGhmj17dqkWCAAAUFZcCkbXXHONtm/frjlz5uibb76Rj4+P7r33XvXv31+VK1cu7RoBAADKhMsnBPn6+mro0KGlWQsAAIBbuRyMdu/erbVr1+rIkSPKy8tzWjZ27NhLLgwAAKCsuRSM3nzzTQ0bNkxBQUEKCwuTzWZzLLPZbAQjAABwRXIpGD333HN6/vnn9cQTT5R2PQAAAG7j0uX6v/32m+64447SrgUAAMCtXApGd9xxhz755JPSrgUAAMCtXPoorV69enr66ae1ceNGNW3atMAl+iNGjCiV4gAAAMqSzRhjSrpSdHR00QPabNq3b98lFVWaMjMz5e/vr4yMDPn5+bm7HFxFokZ/5O4SgFKzf2IPd5eAq4y73r9dOmKUmppa2nUAAAC4nUvnGOXLyclRSkqKcnNzS6seAAAAt3EpGJ06dUpDhgxRlSpV1LhxYx04cECS9PDDD2vixImlWiAAAEBZcSkYjRkzRt98843WrVsnb29vR3tcXJwWLFhQasUBAACUJZfOMVqyZIkWLFig9u3bO931unHjxtq7d2+pFQcAAFCWXDpidPToUYWEhBRoz8rKcgpKAAAAVxKXglHr1q310Uf/fylyfhh66623FBsbWzqVAQAAlDGXPkr7xz/+oYSEBO3cuVO5ubmaMmWKdu7cqS+//FLr168v7RoBAADKhEtHjG644QYlJycrNzdXTZs21SeffKKQkBBt2LBBrVq1Ku0aAQAAyoRLR4wkqW7dunrzzTdLsxYAAAC3cikY5d+3qCi1a9d2qRgAAAB3cikYRUVFXfDqs3PnzrlcEAAAgLu4FIy+/vprp+dnz57V119/rUmTJun5558vlcIAAADKmkvBqHnz5gXaWrdurfDwcL300kvq1avXJRcGAABQ1i7pS2TP16BBA23ZsqU0hwQAACgzLh0xyszMdHpujNGhQ4c0fvx4xcTElEphAAAAZc2lYBQQEFDg5GtjjCIiIjR//vxSKQwAAKCsuRSM1qxZ4xSMKlWqpODgYNWrV0+eni7fGgkAAMCtXEoxnTt3LuUyAAAA3M+lk6+TkpI0Y8aMAu0zZszQCy+8cMlFAQAAuINLweiNN95Qw4YNC7Q3btxY06dPv+SiAAAA3MGlYJSWlqaaNWsWaA8ODtahQ4cuuSgAAAB3cCkYRURE6IsvvijQ/sUXXyg8PPySiwIAAHAHl06+vv/++zVy5EidPXtWN954oyRp9erVevzxx/Xoo4+WaoEAAABlxaVg9Nhjj+nYsWN66KGHlJOTI0ny9vbWE088oTFjxpRqgQAAAGXFpWBks9n0wgsv6Omnn9auXbvk4+OjmJgY2e320q4PAACgzFzSd6WlpaXp+PHjqlu3rux2u4wxpVUXAABAmXMpGB07dkxdu3ZV/fr1dfPNNzuuRBsyZAjnGAEAgCuWS8HokUceUeXKlXXgwAFVqVLF0d63b18tX7681IoDAAAoSy4Fo08++UQvvPCCatWq5dQeExOjH3/8sdjjfPrpp7r11lsVHh4um82mJUuWOC0fPHiwbDab06N79+6ulAwAAHBRLgWjrKwspyNF+Y4fP16iE7CzsrLUvHlzTZ06tcg+3bt316FDhxyPefPmuVIyAADARbl0VVqHDh30zjvv6Nlnn5X0+1VqeXl5evHFF9WlS5dij5OQkKCEhIQL9rHb7QoLC3OlTAAAgBJxKRi9+OKL6tq1q7Zu3aqcnBw9/vjj+u6773T8+PFC74h9KdatW6eQkBBVr15dN954o5577jnVqFGjVLcBAAAguRiMmjRpoh9++EH/+te/VK1aNZ08eVK9evVSYmJiod+h5qru3burV69eio6O1t69e/Xkk08qISFBGzZskIeHR6HrZGdnKzs72/E8MzOz1OoBAAAVW4mD0dmzZ9W9e3dNnz5df//73y9HTQ79+vVz/Ltp06Zq1qyZ6tatq3Xr1qlr166FrpOUlKQJEyZc1roAAEDFVOKTrytXrqzt27dfjlouqk6dOgoKCtKePXuK7DNmzBhlZGQ4HgcPHizDCgEAwJXMpavS7r77bv3nP/8p7Vou6qefftKxY8cu+HGd3W6Xn5+f0wMAAKA4XDrHKDc3VzNmzNCqVavUqlUr+fr6Oi2fNGlSscY5efKk09Gf1NRUJScnKzAwUIGBgZowYYJ69+6tsLAw7d27V48//rjq1aun+Ph4V8oGAAC4oBIFo3379ikqKko7duzQddddJ0n64YcfnPrYbLZij7d161any/tHjRolSRo0aJCmTZum7du36+2331Z6errCw8N100036dlnn+XLagEAwGVRomAUExOjQ4cOae3atZJ+/wqQV199VaGhoS5tvHPnzhf84tkVK1a4NC4AAIArSnSO0fkh5uOPP1ZWVlapFgQAAOAuLp18ne9CR3sAAACuNCUKRvlf5Hp+GwAAQEVQonOMjDEaPHiw4+TnM2fO6MEHHyxwVdqiRYtKr0IAAIAyUqJgNGjQIKfnd999d6kWAwAA4E4lCkYzZ868XHUAAAC43SWdfA0AAFCREIwAAAAsBCMAAAALwQgAAMBCMAIAALAQjAAAACwEIwAAAAvBCAAAwEIwAgAAsBCMAAAALAQjAAAAC8EIAADAQjACAACwEIwAAAAsBCMAAAALwQgAAMBCMAIAALAQjAAAACwEIwAAAAvBCAAAwEIwAgAAsBCMAAAALAQjAAAAC8EIAADAQjACAACwEIwAAAAsBCMAAAALwQgAAMBCMAIAALAQjAAAACwEIwAAAAvBCAAAwEIwAgAAsBCMAAAALAQjAAAAC8EIAADAQjACAACwuDUYffrpp7r11lsVHh4um82mJUuWOC03xmjs2LGqWbOmfHx8FBcXp927d7unWAAAUOG5NRhlZWWpefPmmjp1aqHLX3zxRb366quaPn26Nm3aJF9fX8XHx+vMmTNlXCkAALgaeLpz4wkJCUpISCh0mTFGkydP1lNPPaXbbrtNkvTOO+8oNDRUS5YsUb9+/cqyVAAAcBUot+cYpaamKi0tTXFxcY42f39/tWvXThs2bChyvezsbGVmZjo9AAAAiqPcBqO0tDRJUmhoqFN7aGioY1lhkpKS5O/v73hERERc1joBAEDFUW6DkavGjBmjjIwMx+PgwYPuLgkAAFwhym0wCgsLkyQdPnzYqf3w4cOOZYWx2+3y8/NzegAAABRHuQ1G0dHRCgsL0+rVqx1tmZmZ2rRpk2JjY91YGQAAqKjcelXayZMntWfPHsfz1NRUJScnKzAwULVr19bIkSP13HPPKSYmRtHR0Xr66acVHh6unj17uq9oAABQYbk1GG3dulVdunRxPB81apQkadCgQZo1a5Yef/xxZWVlaejQoUpPT9cNN9yg5cuXy9vb210lAwCACsxmjDHuLuJyyszMlL+/vzIyMjjfCGUqavRH7i4BKDX7J/Zwdwm4yrjr/bvcnmMEAABQ1ghGAAAAFoIRAACAhWAEAABgIRgBAABYCEYAAAAWghEAAICFYAQAAGAhGAEAAFgIRgAAABaCEQAAgIVgBAAAYCEYAQAAWAhGAAAAFoIRAACAhWAEAABgIRgBAABYCEYAAAAWghEAAICFYAQAAGAhGAEAAFgIRgAAABaCEQAAgIVgBAAAYCEYAQAAWAhGAAAAFoIRAACAhWAEAABgIRgBAABYCEYAAAAWghEAAICFYAQAAGAhGAEAAFgIRgAAABaCEQAAgIVgBAAAYCEYAQAAWAhGAAAAFoIRAACAhWAEAABgIRgBAABYCEYAAACWch2Mxo8fL5vN5vRo2LChu8sCAAAVlKe7C7iYxo0ba9WqVY7nnp7lvmQAAHCFKvcpw9PTU2FhYe4uAwAAXAXK9UdpkrR7926Fh4erTp06GjBggA4cOHDB/tnZ2crMzHR6AAAAFEe5Dkbt2rXTrFmztHz5ck2bNk2pqanq0KGDTpw4UeQ6SUlJ8vf3dzwiIiLKsGIAAHAlsxljjLuLKK709HRFRkZq0qRJGjJkSKF9srOzlZ2d7XiemZmpiIgIZWRkyM/Pr6xKBRQ1+iN3lwCUmv0Te7i7BFxlMjMz5e/vX+bv3+X+HKM/CggIUP369bVnz54i+9jtdtnt9jKsCgAAVBTl+qO08508eVJ79+5VzZo13V0KAACogMp1MPrb3/6m9evXa//+/fryyy91++23y8PDQ/3793d3aQAAoAIq1x+l/fTTT+rfv7+OHTum4OBg3XDDDdq4caOCg4PdXRoAAKiAynUwmj9/vrtLAAAAV5Fy/VEaAABAWSIYAQAAWAhGAAAAFoIRAACAhWAEAABgIRgBAABYCEYAAAAWghEAAICFYAQAAGAhGAEAAFgIRgAAABaCEQAAgIVgBAAAYCEYAQAAWAhGAAAAFk93FwAUR9Toj9xdAnBVuxJ/B/dP7OHuEnAF4ogRAACAhWAEAABgIRgBAABYCEYAAAAWghEAAICFYAQAAGAhGAEAAFgIRgAAABaCEQAAgIU7X1+CK/FOsBJ3gwVwdbhS/0ZfaSraewpHjAAAACwEIwAAAAvBCAAAwEIwAgAAsBCMAAAALAQjAAAAC8EIAADAQjACAACwEIwAAAAsBCMAAAALwQgAAMBCMAIAALAQjAAAACwEIwAAAAvBCAAAwEIwAgAAsFwRwWjq1KmKioqSt7e32rVrp82bN7u7JAAAUAGV+2C0YMECjRo1SuPGjdNXX32l5s2bKz4+XkeOHHF3aQAAoIIp98Fo0qRJuv/++3XvvfeqUaNGmj59uqpUqaIZM2a4uzQAAFDBlOtglJOTo23btikuLs7RVqlSJcXFxWnDhg1urAwAAFREnu4u4EJ+/fVXnTt3TqGhoU7toaGh+v777wtdJzs7W9nZ2Y7nGRkZkqTMzMxSry8v+1Spj1kWLsdcXG5X6lwDQEV3ud5T8sc1xlyW8YtSroORK5KSkjRhwoQC7REREW6opnzyn+zuCgAAFcXlfk85ceKE/P39L+9G/qBcB6OgoCB5eHjo8OHDTu2HDx9WWFhYoeuMGTNGo0aNcjzPy8vT8ePHVaNGDdlstlKrLTMzUxERETp48KD8/PxKbdyKjnlzDfPmGuat5Jgz1zBvrrnQvBljdOLECYWHh5dpTeU6GHl5ealVq1ZavXq1evbsKen3oLN69WoNHz680HXsdrvsdrtTW0BAwGWr0c/Pj18CFzBvrmHeXMO8lRxz5hrmzTVFzVtZHinKV66DkSSNGjVKgwYNUuvWrdW2bVtNnjxZWVlZuvfee91dGgAAqGDKfTDq27evjh49qrFjxyotLU0tWrTQ8uXLC5yQDQAAcKnKfTCSpOHDhxf50Zm72O12jRs3rsDHdrgw5s01zJtrmLeSY85cw7y5pjzOm82U9XVwAAAA5VS5vsEjAABAWSIYAQAAWAhGAAAAFoIRAACAhWDkoqlTpyoqKkre3t5q166dNm/e7O6SSsWnn36qW2+9VeHh4bLZbFqyZInTcmOMxo4dq5o1a8rHx0dxcXHavXu3U5/jx49rwIAB8vPzU0BAgIYMGaKTJ0869dm+fbs6dOggb29vRURE6MUXXyxQy3vvvaeGDRvK29tbTZs21bJly0pcS1lJSkpSmzZtVK1aNYWEhKhnz55KSUlx6nPmzBklJiaqRo0aqlq1qnr37l3gru4HDhxQjx49VKVKFYWEhOixxx5Tbm6uU59169bpuuuuk91uV7169TRr1qwC9Vzs9VmcWi63adOmqVmzZo4bu8XGxurjjz8uUY1X03wVZeLEibLZbBo5cqSjjbkraPz48bLZbE6Phg0blqjOq23O8v3888+6++67VaNGDfn4+Khp06baunWrY3mFe18wKLH58+cbLy8vM2PGDPPdd9+Z+++/3wQEBJjDhw+7u7RLtmzZMvP3v//dLFq0yEgyixcvdlo+ceJE4+/vb5YsWWK++eYb8+c//9lER0eb06dPO/p0797dNG/e3GzcuNF89tlnpl69eqZ///6O5RkZGSY0NNQMGDDA7Nixw8ybN8/4+PiYN954w9Hniy++MB4eHubFF180O3fuNE899ZSpXLmy+fbbb0tUS1mJj483M2fONDt27DDJycnm5ptvNrVr1zYnT5509HnwwQdNRESEWb16tdm6datp3769+dOf/uRYnpuba5o0aWLi4uLM119/bZYtW2aCgoLMmDFjHH327dtnqlSpYkaNGmV27txpXnvtNePh4WGWL1/u6FOc1+fFaikL//vf/8xHH31kfvjhB5OSkmKefPJJU7lyZbNjx45i1Xi1zVdhNm/ebKKiokyzZs3MX//6V0c7c1fQuHHjTOPGjc2hQ4ccj6NHjxa7zqtxzowx5vjx4yYyMtIMHjzYbNq0yezbt8+sWLHC7Nmzx9Gnor0vEIxc0LZtW5OYmOh4fu7cORMeHm6SkpLcWFXpOz8Y5eXlmbCwMPPSSy852tLT043dbjfz5s0zxhizc+dOI8ls2bLF0efjjz82NpvN/Pzzz8YYY15//XVTvXp1k52d7ejzxBNPmAYNGjie33nnnaZHjx5O9bRr18488MADxa7FnY4cOWIkmfXr1xtjfq+tcuXK5r333nP02bVrl5FkNmzYYIz5PZRWqlTJpKWlOfpMmzbN+Pn5Oebq8ccfN40bN3baVt++fU18fLzj+cVen8WpxV2qV69u3nrrLearGE6cOGFiYmLMypUrTadOnRzBiLkr3Lhx40zz5s0LXcacFe2JJ54wN9xwQ5HLK+L7Ah+llVBOTo62bdumuLg4R1ulSpUUFxenDRs2uLGyyy81NVVpaWlO++7v76927do59n3Dhg0KCAhQ69atHX3i4uJUqVIlbdq0ydGnY8eO8vLycvSJj49XSkqKfvvtN0efP24nv0/+dopTiztlZGRIkgIDAyVJ27Zt09mzZ53qbdiwoWrXru00d02bNnW6q3t8fLwyMzP13XffOfpcaF6K8/osTi1l7dy5c5o/f76ysrIUGxvLfBVDYmKievToUWD/mLui7d69W+Hh4apTp44GDBigAwcOFLvOq3XO/ve//6l169a64447FBISopYtW+rNN990LK+I7wsEoxL69ddfde7cuQJfSRIaGqq0tDQ3VVU28vfvQvuelpamkJAQp+Wenp4KDAx06lPYGH/cRlF9/rj8YrW4S15enkaOHKnrr79eTZo0kfR7vV5eXgW+0Pj8fXJ1XjIzM3X69OlivT6LU0tZ+fbbb1W1alXZ7XY9+OCDWrx4sRo1asR8XcT8+fP11VdfKSkpqcAy5q5w7dq106xZs7R8+XJNmzZNqamp6tChg06cOMGcXcC+ffs0bdo0xcTEaMWKFRo2bJhGjBiht99+21Fvfn1F1XulvS9cEV8JAlxJEhMTtWPHDn3++efuLqXca9CggZKTk5WRkaH3339fgwYN0vr1691dVrl28OBB/fWvf9XKlSvl7e3t7nKuGAkJCY5/N2vWTO3atVNkZKT++9//ysfHx42VlW95eXlq3bq1/vGPf0iSWrZsqR07dmj69OkaNGiQm6u7PDhiVEJBQUHy8PAocIXA4cOHFRYW5qaqykb+/l1o38PCwnTkyBGn5bm5uTp+/LhTn8LG+OM2iurzx+UXq8Udhg8frqVLl2rt2rWqVauWoz0sLEw5OTlKT0936n/+Prk6L35+fvLx8SnW67M4tZQVLy8v1atXT61atVJSUpKaN2+uKVOmMF8XsG3bNh05ckTXXXedPD095enpqfXr1+vVV1+Vp6enQkNDmbtiCAgIUP369bVnzx5ebxdQs2ZNNWrUyKnt2muvdXwMWRHfFwhGJeTl5aVWrVpp9erVjra8vDytXr1asbGxbqzs8ouOjlZYWJjTvmdmZmrTpk2OfY+NjVV6erq2bdvm6LNmzRrl5eWpXbt2jj6ffvqpzp496+izcuVKNWjQQNWrV3f0+eN28vvkb6c4tZQlY4yGDx+uxYsXa82aNYqOjnZa3qpVK1WuXNmp3pSUFB04cMBp7r799lunPyArV66Un5+f4w/TxealOK/P4tTiLnl5ecrOzma+LqBr16769ttvlZyc7Hi0bt1aAwYMcPybubu4kydPau/evapZsyavtwu4/vrrC9x65IcfflBkZKSkCvq+UOzTtOEwf/58Y7fbzaxZs8zOnTvN0KFDTUBAgNPVCleqEydOmK+//tp8/fXXRpKZNGmS+frrr82PP/5ojPn9UsiAgADzwQcfmO3bt5vbbrut0MsyW7ZsaTZt2mQ+//xzExMT43RZZnp6ugkNDTX33HOP2bFjh5k/f76pUqVKgcsyPT09zcsvv2x27dplxo0bV+hlmRerpawMGzbM+Pv7m3Xr1jldDnzq1ClHnwcffNDUrl3brFmzxmzdutXExsaa2NhYx/L8y4Fvuukmk5ycbJYvX26Cg4MLvRz4scceM7t27TJTp04t9HLgi70+L1ZLWRg9erRZv369SU1NNdu3bzejR482NpvNfPLJJ8Wq8Wqbrwv541VpxjB3hXn00UfNunXrTGpqqvniiy9MXFycCQoKMkeOHClWnVfjnBnz+y0hPD09zfPPP292795t5syZY6pUqWLeffddR5+K9r5AMHLRa6+9ZmrXrm28vLxM27ZtzcaNG91dUqlYu3atkVTgMWjQIGPM75dDPv300yY0NNTY7XbTtWtXk5KS4jTGsWPHTP/+/U3VqlWNn5+fuffee82JEyec+nzzzTfmhhtuMHa73VxzzTVm4sSJBWr573//a+rXr2+8vLxM48aNzUcffeS0vDi1lJXC5kySmTlzpqPP6dOnzUMPPWSqV69uqlSpYm6//XZz6NAhp3H2799vEhISjI+PjwkKCjKPPvqoOXv2rFOftWvXmhYtWhgvLy9Tp04dp23ku9jrszi1XG5/+ctfTGRkpPHy8jLBwcGma9eujlBU3Bqvpvm6kPODEXNXUN++fU3NmjWNl5eXueaaa0zfvn2d7sXDnBXtww8/NE2aNDF2u900bNjQ/Pvf/3ZaXtHeF2zGGFP840sAAAAVF+cYAQAAWAhGAAAAFoIRAACAhWAEAABgIRgBAABYCEYAAAAWghEAAICFYATgihAVFaXJkye7uwwAFRzBCECZGzx4sGw2m2w2m+OLZJ955hnl5uYWuc6WLVs0dOjQMqwSwNXI090FALg6de/eXTNnzlR2draWLVumxMREVa5cWWPGjHHql5OTIy8vLwUHB7upUgBXE44YAXALu92usLAwRUZGatiwYYqLi9P//vc/DR48WD179tTzzz+v8PBwNWjQQFLBj9LS09P1wAMPKDQ0VN7e3mrSpImWLl3qWP7555+rQ4cO8vHxUUREhEaMGKGsrCzH8tdff10xMTHy9vZWaGio+vTpU2b7DqD84ogRgHLBx8dHx44dkyStXr1afn5+WrlyZaF98/LylJCQoBMnTujdd99V3bp1tXPnTnl4eEiS9u7dq+7du+u5557TjBkzdPToUQ0fPlzDhw/XzJkztXXrVo0YMUKzZ8/Wn/70Jx0/flyfffZZme0rgPKLYATArYwxWr16tVasWKGHH35YR48ela+vr9566y15eXkVus6qVau0efNm7dq1S/Xr15ck1alTx7E8KSlJAwYM0MiRIyVJMTExevXVV9WpUydNmzZNBw4ckK+vr2655RZVq1ZNkZGRatmy5WXfVwDlHx+lAXCLpUuXqmrVqvL29lZCQoL69u2r8ePHS5KaNm1aZCiSpOTkZNWqVcsRis73zTffaNasWapatarjER8fr7y8PKWmpqpbt26KjIxUnTp1dM8992jOnDk6derU5dhNAFcYjhgBcIsuXbpo2rRp8vLyUnh4uDw9///Pka+v7wXX9fHxueDykydP6oEHHtCIESMKLKtdu7a8vLz01Vdfad26dfrkk080duxYjR8/Xlu2bFFAQIBL+wOgYiAYAXALX19f1atXz6V1mzVrpp9++kk//PBDoUeNrrvuOu3cufOC43t6eiouLk5xcXEaN26cAgICtGbNGvXq1culmgBUDAQjAFecTp06qWPHjurdu7cmTZqkevXq6fvvv5fNZlP37t31xBNPqH379ho+fLjuu+8++fr6aufOnVq5cqX+9a9/aenSpdq3b586duyo6tWra9myZcrLy3NcAQfg6sU5RgCuSAsXLlSbNm3Uv39/NWrUSI8//rjOnTsn6fcjSuvXr9cPP/ygDh06qGXLlho7dqzCw8MlSQEBAVq0aJFuvPFGXXvttZo+fbrmzZunxo0bu3OXAJQDNmOMcXcRAAAA5QFHjAAAACwEIwAAAAvBCAAAwEIwAgAAsBCMAAAALAQjAAAAC8EIAADAQjACAACwEIwAAAAsBCMAAAALwQgAAMBCMAIAALD8H/kn9Pd/1gZEAAAAAElFTkSuQmCC",
>>>>>>> a1568b2e99372e51dbab8b2aa75477676c2d4ca8
      "text/plain": [
       "<Figure size 640x480 with 1 Axes>"
      ]
     },
     "metadata": {},
     "output_type": "display_data"
    }
   ],
   "source": [
<<<<<<< HEAD
    "# Histogram of price for the population of Arroyomolinos (Madrid)\n",
    "price_arroyomolinos = ds_clean.loc[(ds_clean['level5'] == 'Arroyomolinos (Madrid)')]['price']\n",
    "price_arroyomolinos.hist(legend=True)"
   ]
  },
  {
   "attachments": {},
   "cell_type": "markdown",
   "id": "impressed-combination",
   "metadata": {},
   "source": [
    "**TODO: Markdown**. To write here, double click to this cell and just remove this content and place the text you want to write. Then, execute the cell."
   ]
  },
  {
   "attachments": {},
   "cell_type": "markdown",
   "id": "actual-edinburgh",
   "metadata": {},
   "source": [
    "#### Exercise 09. Are the averages of \"Valdemorillo\" and \"Galapagar\" prices the same? (★★☆)\n",
    "\n",
    "Print the both average prices and then write a conclusion about them"
=======
    "#Plot the histogram of prices for the population (level5) of \"Arroyomolinos (Madrid)\" and explain what you observe\n",
    "group_prices = ds_cleaned.loc[ds_cleaned['level5'] == 'Arroyomolinos (Madrid)']\n",
    "\n",
    "plt.hist(group_prices['price'], bins=10)\n",
    "plt.xlabel('Prices')\n",
    "plt.ylabel('Frecuency')\n",
    "plt.title('Prices of Population Arroyomolinos (Madrid)')\n",
    "plt.show()"
   ]
  },
  {
   "attachments": {},
   "cell_type": "markdown",
   "id": "c86dc493",
   "metadata": {},
   "source": [
    "#### Now let's work with the \"south belt\" of madrid. Make a subsetting that contains the following populations (level5): \"Fuenlabrada\",\"Leganés\",\"Getafe\",\"Alcorcón\" (★★☆) "
>>>>>>> a1568b2e99372e51dbab8b2aa75477676c2d4ca8
   ]
  },
  {
   "cell_type": "code",
<<<<<<< HEAD
   "execution_count": 66,
   "id": "numeric-commerce",
=======
   "execution_count": 24,
   "id": "5280d0cb",
   "metadata": {},
   "outputs": [
    {
     "data": {
      "text/html": [
       "<div>\n",
       "<style scoped>\n",
       "    .dataframe tbody tr th:only-of-type {\n",
       "        vertical-align: middle;\n",
       "    }\n",
       "\n",
       "    .dataframe tbody tr th {\n",
       "        vertical-align: top;\n",
       "    }\n",
       "\n",
       "    .dataframe thead th {\n",
       "        text-align: right;\n",
       "    }\n",
       "</style>\n",
       "<table border=\"1\" class=\"dataframe\">\n",
       "  <thead>\n",
       "    <tr style=\"text-align: right;\">\n",
       "      <th></th>\n",
       "      <th>id_realEstates</th>\n",
       "      <th>isNew</th>\n",
       "      <th>realEstate_name</th>\n",
       "      <th>phone_realEstate</th>\n",
       "      <th>url_inmueble</th>\n",
       "      <th>rooms</th>\n",
       "      <th>bathrooms</th>\n",
       "      <th>surface</th>\n",
       "      <th>price</th>\n",
       "      <th>date</th>\n",
       "      <th>...</th>\n",
       "      <th>level2Id</th>\n",
       "      <th>level3Id</th>\n",
       "      <th>level4Id</th>\n",
       "      <th>level5Id</th>\n",
       "      <th>level6Id</th>\n",
       "      <th>level7Id</th>\n",
       "      <th>level8Id</th>\n",
       "      <th>accuracy</th>\n",
       "      <th>latitude</th>\n",
       "      <th>longitude</th>\n",
       "    </tr>\n",
       "  </thead>\n",
       "  <tbody>\n",
       "    <tr>\n",
       "      <th>1</th>\n",
       "      <td>153867863</td>\n",
       "      <td>False</td>\n",
       "      <td>tecnocasa fuenlabrada ferrocarril</td>\n",
       "      <td>916358736.0</td>\n",
       "      <td>https://www.fotocasa.es/es/comprar/vivienda/ma...</td>\n",
       "      <td>3.0</td>\n",
       "      <td>1.0</td>\n",
       "      <td>NaN</td>\n",
       "      <td>89000</td>\n",
       "      <td>2019-12-28T18:27:15.9975027Z</td>\n",
       "      <td>...</td>\n",
       "      <td>0</td>\n",
       "      <td>0</td>\n",
       "      <td>0</td>\n",
       "      <td>0</td>\n",
       "      <td>0</td>\n",
       "      <td>0</td>\n",
       "      <td>0</td>\n",
       "      <td>1</td>\n",
       "      <td>40,28674</td>\n",
       "      <td>-3,79351</td>\n",
       "    </tr>\n",
       "    <tr>\n",
       "      <th>3</th>\n",
       "      <td>152776331</td>\n",
       "      <td>False</td>\n",
       "      <td>tecnocasa fuenlabrada ferrocarril</td>\n",
       "      <td>916358736.0</td>\n",
       "      <td>https://www.fotocasa.es/es/comprar/vivienda/ma...</td>\n",
       "      <td>3.0</td>\n",
       "      <td>1.0</td>\n",
       "      <td>86.0</td>\n",
       "      <td>89000</td>\n",
       "      <td>2019-12-28T18:27:15.9975027Z</td>\n",
       "      <td>...</td>\n",
       "      <td>0</td>\n",
       "      <td>0</td>\n",
       "      <td>0</td>\n",
       "      <td>0</td>\n",
       "      <td>0</td>\n",
       "      <td>0</td>\n",
       "      <td>0</td>\n",
       "      <td>0</td>\n",
       "      <td>40,2853785786438</td>\n",
       "      <td>-3,79508142135624</td>\n",
       "    </tr>\n",
       "    <tr>\n",
       "      <th>85</th>\n",
       "      <td>153152077</td>\n",
       "      <td>False</td>\n",
       "      <td>sinergical inmobiliaria</td>\n",
       "      <td>NaN</td>\n",
       "      <td>https://www.fotocasa.es/es/comprar/vivienda/le...</td>\n",
       "      <td>1.0</td>\n",
       "      <td>1.0</td>\n",
       "      <td>50.0</td>\n",
       "      <td>107000</td>\n",
       "      <td>2019-12-28T18:30:53.960102Z</td>\n",
       "      <td>...</td>\n",
       "      <td>0</td>\n",
       "      <td>0</td>\n",
       "      <td>0</td>\n",
       "      <td>0</td>\n",
       "      <td>0</td>\n",
       "      <td>0</td>\n",
       "      <td>0</td>\n",
       "      <td>1</td>\n",
       "      <td>40,35059</td>\n",
       "      <td>-3,82693</td>\n",
       "    </tr>\n",
       "    <tr>\n",
       "      <th>94</th>\n",
       "      <td>153995577</td>\n",
       "      <td>False</td>\n",
       "      <td>viviendas365com</td>\n",
       "      <td>911226014.0</td>\n",
       "      <td>https://www.fotocasa.es/es/comprar/vivienda/le...</td>\n",
       "      <td>3.0</td>\n",
       "      <td>2.0</td>\n",
       "      <td>120.0</td>\n",
       "      <td>320000</td>\n",
       "      <td>2019-12-28T18:30:53.960102Z</td>\n",
       "      <td>...</td>\n",
       "      <td>0</td>\n",
       "      <td>0</td>\n",
       "      <td>0</td>\n",
       "      <td>0</td>\n",
       "      <td>0</td>\n",
       "      <td>0</td>\n",
       "      <td>0</td>\n",
       "      <td>0</td>\n",
       "      <td>40,31933</td>\n",
       "      <td>-3,77574</td>\n",
       "    </tr>\n",
       "    <tr>\n",
       "      <th>109</th>\n",
       "      <td>153586414</td>\n",
       "      <td>False</td>\n",
       "      <td>area uno asesores inmobiliarios</td>\n",
       "      <td>912664081.0</td>\n",
       "      <td>https://www.fotocasa.es/es/comprar/vivienda/ma...</td>\n",
       "      <td>3.0</td>\n",
       "      <td>3.0</td>\n",
       "      <td>142.0</td>\n",
       "      <td>425000</td>\n",
       "      <td>2019-12-28T18:32:32.5337942Z</td>\n",
       "      <td>...</td>\n",
       "      <td>0</td>\n",
       "      <td>0</td>\n",
       "      <td>0</td>\n",
       "      <td>0</td>\n",
       "      <td>0</td>\n",
       "      <td>0</td>\n",
       "      <td>0</td>\n",
       "      <td>0</td>\n",
       "      <td>40,3313411</td>\n",
       "      <td>-3,8313868</td>\n",
       "    </tr>\n",
       "    <tr>\n",
       "      <th>...</th>\n",
       "      <td>...</td>\n",
       "      <td>...</td>\n",
       "      <td>...</td>\n",
       "      <td>...</td>\n",
       "      <td>...</td>\n",
       "      <td>...</td>\n",
       "      <td>...</td>\n",
       "      <td>...</td>\n",
       "      <td>...</td>\n",
       "      <td>...</td>\n",
       "      <td>...</td>\n",
       "      <td>...</td>\n",
       "      <td>...</td>\n",
       "      <td>...</td>\n",
       "      <td>...</td>\n",
       "      <td>...</td>\n",
       "      <td>...</td>\n",
       "      <td>...</td>\n",
       "      <td>...</td>\n",
       "      <td>...</td>\n",
       "      <td>...</td>\n",
       "    </tr>\n",
       "    <tr>\n",
       "      <th>15275</th>\n",
       "      <td>153903887</td>\n",
       "      <td>False</td>\n",
       "      <td>aliseda servicios de gestion inmobiliaria</td>\n",
       "      <td>911368198.0</td>\n",
       "      <td>https://www.fotocasa.es/es/comprar/vivienda/al...</td>\n",
       "      <td>3.0</td>\n",
       "      <td>1.0</td>\n",
       "      <td>78.0</td>\n",
       "      <td>138000</td>\n",
       "      <td>2019-12-17T19:02:00Z</td>\n",
       "      <td>...</td>\n",
       "      <td>0</td>\n",
       "      <td>0</td>\n",
       "      <td>0</td>\n",
       "      <td>0</td>\n",
       "      <td>0</td>\n",
       "      <td>0</td>\n",
       "      <td>0</td>\n",
       "      <td>1</td>\n",
       "      <td>40,31381</td>\n",
       "      <td>-3,83733</td>\n",
       "    </tr>\n",
       "    <tr>\n",
       "      <th>15291</th>\n",
       "      <td>151697757</td>\n",
       "      <td>False</td>\n",
       "      <td>unipiso</td>\n",
       "      <td>912788631.0</td>\n",
       "      <td>https://www.fotocasa.es/es/comprar/vivienda/al...</td>\n",
       "      <td>3.0</td>\n",
       "      <td>2.0</td>\n",
       "      <td>110.0</td>\n",
       "      <td>279000</td>\n",
       "      <td>2019-12-17T18:57:00Z</td>\n",
       "      <td>...</td>\n",
       "      <td>0</td>\n",
       "      <td>0</td>\n",
       "      <td>0</td>\n",
       "      <td>0</td>\n",
       "      <td>0</td>\n",
       "      <td>0</td>\n",
       "      <td>0</td>\n",
       "      <td>0</td>\n",
       "      <td>40,3259051</td>\n",
       "      <td>-3,76318</td>\n",
       "    </tr>\n",
       "    <tr>\n",
       "      <th>15305</th>\n",
       "      <td>153902389</td>\n",
       "      <td>False</td>\n",
       "      <td>jadein ferrero</td>\n",
       "      <td>914871639.0</td>\n",
       "      <td>https://www.fotocasa.es/es/comprar/vivienda/ma...</td>\n",
       "      <td>3.0</td>\n",
       "      <td>2.0</td>\n",
       "      <td>85.0</td>\n",
       "      <td>170000</td>\n",
       "      <td>2019-12-17T18:43:00Z</td>\n",
       "      <td>...</td>\n",
       "      <td>0</td>\n",
       "      <td>0</td>\n",
       "      <td>0</td>\n",
       "      <td>0</td>\n",
       "      <td>0</td>\n",
       "      <td>0</td>\n",
       "      <td>0</td>\n",
       "      <td>0</td>\n",
       "      <td>40,2882193</td>\n",
       "      <td>-3,8098617</td>\n",
       "    </tr>\n",
       "    <tr>\n",
       "      <th>15322</th>\n",
       "      <td>153871864</td>\n",
       "      <td>False</td>\n",
       "      <td>gestion comercial</td>\n",
       "      <td>911220662.0</td>\n",
       "      <td>https://www.fotocasa.es/es/comprar/vivienda/ma...</td>\n",
       "      <td>3.0</td>\n",
       "      <td>1.0</td>\n",
       "      <td>91.0</td>\n",
       "      <td>112000</td>\n",
       "      <td>2019-12-17T18:25:00Z</td>\n",
       "      <td>...</td>\n",
       "      <td>0</td>\n",
       "      <td>0</td>\n",
       "      <td>0</td>\n",
       "      <td>0</td>\n",
       "      <td>0</td>\n",
       "      <td>0</td>\n",
       "      <td>0</td>\n",
       "      <td>0</td>\n",
       "      <td>40,28282</td>\n",
       "      <td>-3,78892</td>\n",
       "    </tr>\n",
       "    <tr>\n",
       "      <th>15325</th>\n",
       "      <td>153901467</td>\n",
       "      <td>False</td>\n",
       "      <td>montehogar 68</td>\n",
       "      <td>911790675.0</td>\n",
       "      <td>https://www.fotocasa.es/es/comprar/vivienda/ma...</td>\n",
       "      <td>2.0</td>\n",
       "      <td>2.0</td>\n",
       "      <td>99.0</td>\n",
       "      <td>215000</td>\n",
       "      <td>2019-12-17T18:24:00Z</td>\n",
       "      <td>...</td>\n",
       "      <td>0</td>\n",
       "      <td>0</td>\n",
       "      <td>0</td>\n",
       "      <td>0</td>\n",
       "      <td>0</td>\n",
       "      <td>0</td>\n",
       "      <td>0</td>\n",
       "      <td>1</td>\n",
       "      <td>40,28062</td>\n",
       "      <td>-3,79869</td>\n",
       "    </tr>\n",
       "  </tbody>\n",
       "</table>\n",
       "<p>907 rows × 34 columns</p>\n",
       "</div>"
      ],
      "text/plain": [
       "       id_realEstates  isNew                            realEstate_name  \\\n",
       "1           153867863  False          tecnocasa fuenlabrada ferrocarril   \n",
       "3           152776331  False          tecnocasa fuenlabrada ferrocarril   \n",
       "85          153152077  False                    sinergical inmobiliaria   \n",
       "94          153995577  False                            viviendas365com   \n",
       "109         153586414  False            area uno asesores inmobiliarios   \n",
       "...               ...    ...                                        ...   \n",
       "15275       153903887  False  aliseda servicios de gestion inmobiliaria   \n",
       "15291       151697757  False                                    unipiso   \n",
       "15305       153902389  False                             jadein ferrero   \n",
       "15322       153871864  False                          gestion comercial   \n",
       "15325       153901467  False                              montehogar 68   \n",
       "\n",
       "       phone_realEstate                                       url_inmueble  \\\n",
       "1           916358736.0  https://www.fotocasa.es/es/comprar/vivienda/ma...   \n",
       "3           916358736.0  https://www.fotocasa.es/es/comprar/vivienda/ma...   \n",
       "85                  NaN  https://www.fotocasa.es/es/comprar/vivienda/le...   \n",
       "94          911226014.0  https://www.fotocasa.es/es/comprar/vivienda/le...   \n",
       "109         912664081.0  https://www.fotocasa.es/es/comprar/vivienda/ma...   \n",
       "...                 ...                                                ...   \n",
       "15275       911368198.0  https://www.fotocasa.es/es/comprar/vivienda/al...   \n",
       "15291       912788631.0  https://www.fotocasa.es/es/comprar/vivienda/al...   \n",
       "15305       914871639.0  https://www.fotocasa.es/es/comprar/vivienda/ma...   \n",
       "15322       911220662.0  https://www.fotocasa.es/es/comprar/vivienda/ma...   \n",
       "15325       911790675.0  https://www.fotocasa.es/es/comprar/vivienda/ma...   \n",
       "\n",
       "       rooms  bathrooms  surface   price                          date  ...  \\\n",
       "1        3.0        1.0      NaN   89000  2019-12-28T18:27:15.9975027Z  ...   \n",
       "3        3.0        1.0     86.0   89000  2019-12-28T18:27:15.9975027Z  ...   \n",
       "85       1.0        1.0     50.0  107000   2019-12-28T18:30:53.960102Z  ...   \n",
       "94       3.0        2.0    120.0  320000   2019-12-28T18:30:53.960102Z  ...   \n",
       "109      3.0        3.0    142.0  425000  2019-12-28T18:32:32.5337942Z  ...   \n",
       "...      ...        ...      ...     ...                           ...  ...   \n",
       "15275    3.0        1.0     78.0  138000          2019-12-17T19:02:00Z  ...   \n",
       "15291    3.0        2.0    110.0  279000          2019-12-17T18:57:00Z  ...   \n",
       "15305    3.0        2.0     85.0  170000          2019-12-17T18:43:00Z  ...   \n",
       "15322    3.0        1.0     91.0  112000          2019-12-17T18:25:00Z  ...   \n",
       "15325    2.0        2.0     99.0  215000          2019-12-17T18:24:00Z  ...   \n",
       "\n",
       "      level2Id level3Id level4Id level5Id level6Id level7Id level8Id accuracy  \\\n",
       "1            0        0        0        0        0        0        0        1   \n",
       "3            0        0        0        0        0        0        0        0   \n",
       "85           0        0        0        0        0        0        0        1   \n",
       "94           0        0        0        0        0        0        0        0   \n",
       "109          0        0        0        0        0        0        0        0   \n",
       "...        ...      ...      ...      ...      ...      ...      ...      ...   \n",
       "15275        0        0        0        0        0        0        0        1   \n",
       "15291        0        0        0        0        0        0        0        0   \n",
       "15305        0        0        0        0        0        0        0        0   \n",
       "15322        0        0        0        0        0        0        0        0   \n",
       "15325        0        0        0        0        0        0        0        1   \n",
       "\n",
       "               latitude          longitude  \n",
       "1              40,28674           -3,79351  \n",
       "3      40,2853785786438  -3,79508142135624  \n",
       "85             40,35059           -3,82693  \n",
       "94             40,31933           -3,77574  \n",
       "109          40,3313411         -3,8313868  \n",
       "...                 ...                ...  \n",
       "15275          40,31381           -3,83733  \n",
       "15291        40,3259051           -3,76318  \n",
       "15305        40,2882193         -3,8098617  \n",
       "15322          40,28282           -3,78892  \n",
       "15325          40,28062           -3,79869  \n",
       "\n",
       "[907 rows x 34 columns]"
      ]
     },
     "execution_count": 24,
     "metadata": {},
     "output_type": "execute_result"
    }
   ],
   "source": [
    "#Now let's work with the \"south belt\" of madrid. Make a subsetting that contains the following populations (level5): \"Fuenlabrada\",\"Leganés\",\"Getafe\",\"Alcorcón\"\n",
    "subset_ds = ds_cleaned[ds_cleaned['level5'].isin([\"Fuenlabrada\", \"Leganés\", \"Getafe\", \"Alcorcón\"])]\n",
    "subset_ds"
   ]
  },
  {
   "attachments": {},
   "cell_type": "markdown",
   "id": "090a6a3e",
   "metadata": {},
   "source": [
    "#### Make a bar plot of the median of prices (★★★) "
   ]
  },
  {
   "cell_type": "code",
   "execution_count": 25,
   "id": "68aec11c",
   "metadata": {},
   "outputs": [
    {
     "data": {
      "image/png": "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",
      "text/plain": [
       "<Figure size 640x480 with 1 Axes>"
      ]
     },
     "metadata": {},
     "output_type": "display_data"
    }
   ],
   "source": [
    "#Make a bar plot of the median of prices\n",
    "ds_median_prices = subset_ds['price'].median()\n",
    "\n",
    "plt.bar(0, ds_median_prices)\n",
    "plt.title('Median of Prices')\n",
    "plt.show()"
   ]
  },
  {
   "attachments": {},
   "cell_type": "markdown",
   "id": "18f67373",
   "metadata": {},
   "source": [
    "#### Calculate the sample mean and variance of the variables: price, rooms, surface area and bathrooms (★★★) "
   ]
  },
  {
   "cell_type": "code",
   "execution_count": 26,
   "id": "8d068061",
>>>>>>> a1568b2e99372e51dbab8b2aa75477676c2d4ca8
   "metadata": {},
   "outputs": [
    {
     "name": "stdout",
     "output_type": "stream",
     "text": [
<<<<<<< HEAD
      "The average of Valdemorillo prices is 363860.29\n",
      "The average of Galapagar prices is 360063.2\n",
      "The averages of Valdemorillo and Galapagar prices are different.\n"
=======
      "The average home price is:  477303.56641669385 and the variance is:  349628868677.4539\n",
      "The average number of rooms is:  3.2316112668535575  with a variance of  1.9407455379492797\n",
      "The average home surface area is:  196.91643592474264  with a variance of  4764433.8520764755\n",
      "The average number of bathrooms is:  2.150233488992662  with a variance of  1.669469222949398\n"
>>>>>>> a1568b2e99372e51dbab8b2aa75477676c2d4ca8
     ]
    }
   ],
   "source": [
<<<<<<< HEAD
    "# Are the averages of Valdemorillo and Galapagar prices the same?\n",
    "## Average of Valdemorillo prices\n",
    "avg_price_valdemorillo = ds_clean[(ds_clean['level5'] == 'Valdemorillo')]['price'].mean()\n",
    "print(f'The average of Valdemorillo prices is {round(avg_price_valdemorillo, 2)}')\n",
    "\n",
    "## Average of galapagar prices\n",
    "avg_price_galapagar = ds_clean[(ds_clean['level5'] == 'Galapagar')]['price'].mean()\n",
    "print(f'The average of Galapagar prices is {round(avg_price_galapagar, 2)}')\n",
    "\n",
    "#Compare average prices\n",
    "if avg_price_valdemorillo == avg_price_galapagar:\n",
    "    print(\"The averages of Valdemorillo and Galapagar prices are the same.\")\n",
    "else:\n",
    "    print(\"The averages of Valdemorillo and Galapagar prices are different.\")"
=======
    "#Calculate the sample mean and variance of the variables: price, rooms, surface area and bathrooms\n",
    "\n",
    "#mean and variance of prices\n",
    "prices_mean = ds_cleaned['price'].mean()\n",
    "prices_variance = ds_cleaned['price'].var()\n",
    "\n",
    "#mean and variance of rooms\n",
    "rooms_mean = ds_cleaned['rooms'].mean()\n",
    "rooms_variance = ds_cleaned['rooms'].var()\n",
    "\n",
    "#mean and variance of surface area\n",
    "surface_mean = ds_cleaned['surface'].mean()\n",
    "surface_variance = ds_cleaned['surface'].var()\n",
    "\n",
    "#mean and variance of bathrooms\n",
    "bathrooms_mean = ds_cleaned['bathrooms'].mean()\n",
    "bathrooms_variance = ds_cleaned['bathrooms'].var()\n",
    "\n",
    "print('The average home price is: ', prices_mean, 'and the variance is: ', prices_variance)\n",
    "print('The average number of rooms is: ', rooms_mean, ' with a variance of ', rooms_variance)\n",
    "print('The average home surface area is: ', surface_mean, ' with a variance of ', surface_variance)\n",
    "print('The average number of bathrooms is: ', bathrooms_mean, ' with a variance of ', bathrooms_variance)"
>>>>>>> a1568b2e99372e51dbab8b2aa75477676c2d4ca8
   ]
  },
  {
   "attachments": {},
   "cell_type": "markdown",
<<<<<<< HEAD
   "id": "lonely-article",
   "metadata": {},
   "source": [
    "#### Exercise 10. Are the averages of \"Valdemorillo\" and \"Galapagar\" price per square meter (price/m2) the same? (★★☆)\n",
    "\n",
    "Print the both average prices and then write a conclusion about\n",
    "\n",
    "Hint: Create a new column called `pps` (price per square) and then analyse the values"
=======
   "id": "95cfde61",
   "metadata": {},
   "source": [
    "#### What is the most expensive home of each population? (★★☆) "
>>>>>>> a1568b2e99372e51dbab8b2aa75477676c2d4ca8
   ]
  },
  {
   "cell_type": "code",
<<<<<<< HEAD
   "execution_count": 67,
   "id": "hourly-globe",
   "metadata": {},
   "outputs": [
    {
     "name": "stdout",
     "output_type": "stream",
     "text": [
      "The average of Valdemorillo price per square meter (price/m2) is 1317.95\n",
      "The average of Galapagar price per square meter (price/m2) is 1606.32\n",
      "The averages of Valdemorillo and Galapagar prices per square meter (price/m2) are different.\n"
     ]
    }
   ],
   "source": [
    "# Are the averages of Valdemorillo and Galapagar prices per square meter (price/m2) the same?\n",
    "ds_clean['pps'] = ds_clean['price'] / ds_clean['surface']\n",
    "\n",
    "## Average of Valdemorillo price/m2\n",
    "avg_pps_valdemorillo = ds_clean[(ds_clean['level5'] == 'Valdemorillo')]['pps'].mean()\n",
    "print(f'The average of Valdemorillo price per square meter (price/m2) is {round(avg_pps_valdemorillo, 2)}')\n",
    "\n",
    "## Average of galapagar price/m2\n",
    "avg_pps_galapagar = ds_clean[(ds_clean['level5'] == 'Galapagar')]['pps'].mean()\n",
    "print(f'The average of Galapagar price per square meter (price/m2) is {round(avg_pps_galapagar, 2)}')\n",
    "\n",
    "#Compare averages price/m2\n",
    "if avg_pps_valdemorillo == avg_pps_galapagar:\n",
    "    print(\"The averages of Valdemorillo and Galapagar prices per square meter (price/m2) are the same.\")\n",
    "else:\n",
    "    print(\"The averages of Valdemorillo and Galapagar prices per square meter (price/m2) are different.\")"
=======
   "execution_count": 27,
   "id": "1c29f78c",
   "metadata": {},
   "outputs": [
    {
     "data": {
      "text/html": [
       "<div>\n",
       "<style scoped>\n",
       "    .dataframe tbody tr th:only-of-type {\n",
       "        vertical-align: middle;\n",
       "    }\n",
       "\n",
       "    .dataframe tbody tr th {\n",
       "        vertical-align: top;\n",
       "    }\n",
       "\n",
       "    .dataframe thead th {\n",
       "        text-align: right;\n",
       "    }\n",
       "</style>\n",
       "<table border=\"1\" class=\"dataframe\">\n",
       "  <thead>\n",
       "    <tr style=\"text-align: right;\">\n",
       "      <th></th>\n",
       "      <th>id_realEstates</th>\n",
       "      <th>isNew</th>\n",
       "      <th>realEstate_name</th>\n",
       "      <th>phone_realEstate</th>\n",
       "      <th>url_inmueble</th>\n",
       "      <th>rooms</th>\n",
       "      <th>bathrooms</th>\n",
       "      <th>surface</th>\n",
       "      <th>price</th>\n",
       "      <th>date</th>\n",
       "      <th>...</th>\n",
       "      <th>level2Id</th>\n",
       "      <th>level3Id</th>\n",
       "      <th>level4Id</th>\n",
       "      <th>level5Id</th>\n",
       "      <th>level6Id</th>\n",
       "      <th>level7Id</th>\n",
       "      <th>level8Id</th>\n",
       "      <th>accuracy</th>\n",
       "      <th>latitude</th>\n",
       "      <th>longitude</th>\n",
       "    </tr>\n",
       "  </thead>\n",
       "  <tbody>\n",
       "    <tr>\n",
       "      <th>5585</th>\n",
       "      <td>153275915</td>\n",
       "      <td>False</td>\n",
       "      <td>100 home red inmobiliaria</td>\n",
       "      <td>912669623.0</td>\n",
       "      <td>https://www.fotocasa.es/es/comprar/vivienda/ca...</td>\n",
       "      <td>6.0</td>\n",
       "      <td>6.0</td>\n",
       "      <td>722.0</td>\n",
       "      <td>950000</td>\n",
       "      <td>2019-12-26T11:01:00Z</td>\n",
       "      <td>...</td>\n",
       "      <td>0</td>\n",
       "      <td>0</td>\n",
       "      <td>0</td>\n",
       "      <td>0</td>\n",
       "      <td>0</td>\n",
       "      <td>0</td>\n",
       "      <td>0</td>\n",
       "      <td>0</td>\n",
       "      <td>40,3535169</td>\n",
       "      <td>-3,8664683</td>\n",
       "    </tr>\n",
       "    <tr>\n",
       "      <th>11561</th>\n",
       "      <td>153660921</td>\n",
       "      <td>False</td>\n",
       "      <td>unna madrid</td>\n",
       "      <td>912780846.0</td>\n",
       "      <td>https://www.fotocasa.es/es/comprar/vivienda/va...</td>\n",
       "      <td>4.0</td>\n",
       "      <td>3.0</td>\n",
       "      <td>274.0</td>\n",
       "      <td>490000</td>\n",
       "      <td>2019-12-20T10:31:00Z</td>\n",
       "      <td>...</td>\n",
       "      <td>0</td>\n",
       "      <td>0</td>\n",
       "      <td>0</td>\n",
       "      <td>0</td>\n",
       "      <td>0</td>\n",
       "      <td>0</td>\n",
       "      <td>0</td>\n",
       "      <td>1</td>\n",
       "      <td>40,28286</td>\n",
       "      <td>-3,81475</td>\n",
       "    </tr>\n",
       "    <tr>\n",
       "      <th>2881</th>\n",
       "      <td>151105544</td>\n",
       "      <td>False</td>\n",
       "      <td>unna grupo inmobiliario</td>\n",
       "      <td>912665694.0</td>\n",
       "      <td>https://www.fotocasa.es/es/comprar/vivienda/ma...</td>\n",
       "      <td>6.0</td>\n",
       "      <td>4.0</td>\n",
       "      <td>600.0</td>\n",
       "      <td>1050000</td>\n",
       "      <td>2019-12-27T15:59:00Z</td>\n",
       "      <td>...</td>\n",
       "      <td>0</td>\n",
       "      <td>0</td>\n",
       "      <td>0</td>\n",
       "      <td>0</td>\n",
       "      <td>0</td>\n",
       "      <td>0</td>\n",
       "      <td>0</td>\n",
       "      <td>0</td>\n",
       "      <td>40,302820239187</td>\n",
       "      <td>-3,7281704612835</td>\n",
       "    </tr>\n",
       "    <tr>\n",
       "      <th>10412</th>\n",
       "      <td>152251506</td>\n",
       "      <td>False</td>\n",
       "      <td>bafre gestion y servicios inmobiliarios</td>\n",
       "      <td>910752245.0</td>\n",
       "      <td>https://www.fotocasa.es/es/comprar/vivienda/co...</td>\n",
       "      <td>6.0</td>\n",
       "      <td>5.0</td>\n",
       "      <td>360.0</td>\n",
       "      <td>650000</td>\n",
       "      <td>2019-12-21T16:00:00Z</td>\n",
       "      <td>...</td>\n",
       "      <td>0</td>\n",
       "      <td>0</td>\n",
       "      <td>0</td>\n",
       "      <td>0</td>\n",
       "      <td>0</td>\n",
       "      <td>0</td>\n",
       "      <td>0</td>\n",
       "      <td>0</td>\n",
       "      <td>40,3423636291504</td>\n",
       "      <td>-3,74814414978027</td>\n",
       "    </tr>\n",
       "  </tbody>\n",
       "</table>\n",
       "<p>4 rows × 34 columns</p>\n",
       "</div>"
      ],
      "text/plain": [
       "       id_realEstates  isNew                          realEstate_name  \\\n",
       "5585        153275915  False                100 home red inmobiliaria   \n",
       "11561       153660921  False                              unna madrid   \n",
       "2881        151105544  False                  unna grupo inmobiliario   \n",
       "10412       152251506  False  bafre gestion y servicios inmobiliarios   \n",
       "\n",
       "       phone_realEstate                                       url_inmueble  \\\n",
       "5585        912669623.0  https://www.fotocasa.es/es/comprar/vivienda/ca...   \n",
       "11561       912780846.0  https://www.fotocasa.es/es/comprar/vivienda/va...   \n",
       "2881        912665694.0  https://www.fotocasa.es/es/comprar/vivienda/ma...   \n",
       "10412       910752245.0  https://www.fotocasa.es/es/comprar/vivienda/co...   \n",
       "\n",
       "       rooms  bathrooms  surface    price                  date  ... level2Id  \\\n",
       "5585     6.0        6.0    722.0   950000  2019-12-26T11:01:00Z  ...        0   \n",
       "11561    4.0        3.0    274.0   490000  2019-12-20T10:31:00Z  ...        0   \n",
       "2881     6.0        4.0    600.0  1050000  2019-12-27T15:59:00Z  ...        0   \n",
       "10412    6.0        5.0    360.0   650000  2019-12-21T16:00:00Z  ...        0   \n",
       "\n",
       "      level3Id level4Id level5Id level6Id level7Id level8Id accuracy  \\\n",
       "5585         0        0        0        0        0        0        0   \n",
       "11561        0        0        0        0        0        0        1   \n",
       "2881         0        0        0        0        0        0        0   \n",
       "10412        0        0        0        0        0        0        0   \n",
       "\n",
       "               latitude          longitude  \n",
       "5585         40,3535169         -3,8664683  \n",
       "11561          40,28286           -3,81475  \n",
       "2881    40,302820239187   -3,7281704612835  \n",
       "10412  40,3423636291504  -3,74814414978027  \n",
       "\n",
       "[4 rows x 34 columns]"
      ]
     },
     "execution_count": 27,
     "metadata": {},
     "output_type": "execute_result"
    }
   ],
   "source": [
    "#What is the most expensive home of each population?\n",
    "most_expensive_homes = subset_ds.loc[subset_ds.groupby(['level5'])['price'].idxmax()]\n",
    "most_expensive_homes"
>>>>>>> a1568b2e99372e51dbab8b2aa75477676c2d4ca8
   ]
  },
  {
   "attachments": {},
   "cell_type": "markdown",
<<<<<<< HEAD
   "id": "pleasant-invite",
   "metadata": {},
   "source": [
    "#### Exercise 11. Analyse the relation between the surface and the price of the houses (★★☆)\n",
    "\n",
    "Hint: You can make a `scatter plot` and then write a conclusion about it"
=======
   "id": "ea67579b",
   "metadata": {},
   "source": [
    "#### Normalize the variable of prices for each population and plot the 4 histograms in the same plot (★★★) "
>>>>>>> a1568b2e99372e51dbab8b2aa75477676c2d4ca8
   ]
  },
  {
   "cell_type": "code",
<<<<<<< HEAD
   "execution_count": null,
   "id": "common-drilling",
   "metadata": {},
   "outputs": [],
   "source": [
    "# TODO: Code"
   ]
  },
  {
   "attachments": {},
   "cell_type": "markdown",
   "id": "ahead-liquid",
   "metadata": {},
   "source": [
    "**TODO: Markdown**. To write here, double click to this cell and just remove this content and place the text you want to write. Then, execute the cell."
   ]
  },
  {
   "attachments": {},
   "cell_type": "markdown",
   "id": "coordinate-sunrise",
   "metadata": {},
   "source": [
    "#### Exercise 12. How many real estate agencies the dataset contains? (★★☆)\n",
    "\n",
    "Print the obtained value"
=======
   "execution_count": 28,
   "id": "385ad99c",
   "metadata": {},
   "outputs": [
    {
     "data": {
      "image/png": "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",
      "text/plain": [
       "<Figure size 640x480 with 1 Axes>"
      ]
     },
     "metadata": {},
     "output_type": "display_data"
    }
   ],
   "source": [
    "#Normalize the variable of prices for each population \n",
    "normalized_subset_prices = subset_ds['price'].transform(lambda x: (x - x.mean()) / x.std())\n",
    "\n",
    "#plot the 4 histograms in the same plot\n",
    "populations = subset_ds['level5'].unique()\n",
    "\n",
    "for population in populations:\n",
    "    population_prices = normalized_subset_prices[subset_ds['level5'] == population]\n",
    "    plt.hist(population_prices, bins=10, alpha=0.5, label=population)\n",
    "\n",
    "plt.xlabel('Normalized Price')\n",
    "plt.ylabel('Frequency')\n",
    "plt.title('Normalized Prices by Population')\n",
    "plt.legend()\n",
    "plt.show()"
   ]
  },
  {
   "attachments": {},
   "cell_type": "markdown",
   "id": "2ec1bd5c",
   "metadata": {},
   "source": [
    "#### Make a plot of the coordinates (lat and long) of the south belt of Madrid by color of each population (★★★★) \n",
    "This is a extremely hard exercise and we highly recommend to do it at the end of everything"
>>>>>>> a1568b2e99372e51dbab8b2aa75477676c2d4ca8
   ]
  },
  {
   "cell_type": "code",
<<<<<<< HEAD
   "execution_count": null,
   "id": "valid-honolulu",
   "metadata": {},
   "outputs": [],
   "source": [
    "# TODO"
   ]
  },
  {
   "attachments": {},
   "cell_type": "markdown",
   "id": "binding-ebony",
   "metadata": {},
   "source": [
    "#### Exercise 13. Which is the population (level5 column) that contains the most houses? (★★☆)\n",
    "\n",
    "Print both the population and the number of houses"
   ]
  },
  {
   "cell_type": "code",
   "execution_count": null,
   "id": "static-perry",
   "metadata": {},
   "outputs": [],
   "source": [
    "# TODO"
   ]
  },
  {
   "attachments": {},
   "cell_type": "markdown",
   "id": "entire-classification",
   "metadata": {},
   "source": [
    "#### Exercise 14. Now let's work with the \"south belt\" of madrid. Make a subset of the original DataFrame that contains the following populations (level5 column): \"Fuenlabrada\",\"Leganés\",\"Getafe\",\"Alcorcón\" (★★☆)\n",
    "\n",
    "Hint: Filter the original DataFrame using the column `level5` and the function `isin`"
   ]
  },
  {
   "cell_type": "code",
   "execution_count": null,
   "id": "binary-input",
   "metadata": {},
   "outputs": [],
   "source": [
    "# TODO"
   ]
  },
  {
   "attachments": {},
   "cell_type": "markdown",
   "id": "severe-fisher",
   "metadata": {},
   "source": [
    "#### Exercise 15. Make a bar plot of the median of the prices and explain what you observe (you must use the subset obtained in the question 14) (★★★)\n",
    "\n",
    "Print the bar of the median of the prices and write in the Markdown cell a brief analysis about the plot"
   ]
  },
  {
   "cell_type": "code",
   "execution_count": null,
   "id": "lyric-bunch",
   "metadata": {},
   "outputs": [],
   "source": [
    "# TODO: Code"
   ]
  },
  {
   "attachments": {},
   "cell_type": "markdown",
   "id": "sublime-newspaper",
   "metadata": {},
   "source": [
    "**TODO: Markdown**. To write here, double click to this cell and just remove this content and place the text you want to write. Then, execute the cell."
   ]
  },
  {
   "attachments": {},
   "cell_type": "markdown",
   "id": "speaking-diamond",
   "metadata": {},
   "source": [
    "#### Exercise 16. Calculate the sample mean and variance of the variables: price, rooms, surface area and bathrooms (you must use the subset obtained in the question 14) (★★★)\n",
    "\n",
    "Print both values for each variable"
   ]
  },
  {
   "cell_type": "code",
   "execution_count": null,
   "id": "random-feeling",
   "metadata": {},
   "outputs": [],
   "source": [
    "# TODO"
   ]
  },
  {
   "attachments": {},
   "cell_type": "markdown",
   "id": "revolutionary-matrix",
   "metadata": {},
   "source": [
    "#### Exercise 17. What is the most expensive house of each population? You must use the subset obtained in the question 14 (★★☆)\n",
    "\n",
    "Print both the address and the price of the selected house of each population. You can print a DataFrame or a single line for each population"
   ]
  },
  {
   "cell_type": "code",
   "execution_count": null,
   "id": "fifteen-browse",
   "metadata": {},
   "outputs": [],
   "source": [
    "# TODO"
   ]
  },
  {
   "attachments": {},
   "cell_type": "markdown",
   "id": "activated-knight",
   "metadata": {},
   "source": [
    "#### Exercise 18. Normalize the variable of prices for each population and plot the 4 histograms in the same plot (you must use the subset obtained in the question 14) (★★★)\n",
    "\n",
    "For the normalization method you can use the one you consider to, there is not a single correct answer to this question. Print the plot and write in the Markdown cell a brief analysis about the plot\n",
    "\n",
    "Hint: You can help yourself reviewing the multihist demo of Matplotlib"
   ]
  },
  {
   "cell_type": "code",
   "execution_count": null,
   "id": "civic-meditation",
   "metadata": {},
   "outputs": [],
   "source": [
    "# TODO"
   ]
  },
  {
   "attachments": {},
   "cell_type": "markdown",
   "id": "precise-heavy",
   "metadata": {},
   "source": [
    "**TODO: Markdown**. To write here, double click to this cell and just remove this content and place the text you want to write. Then, execute the cell."
   ]
  },
  {
   "attachments": {},
   "cell_type": "markdown",
   "id": "patent-jonathan",
   "metadata": {},
   "source": [
    "#### Exercise 19. What can you say about the price per square meter (price/m2) between the towns of \"Getafe\" and \"Alcorcón\"? You must use the subset obtained in the question 14 (★★☆)\n",
    "\n",
    "Hint: Create a new column called `pps` (price per square) and then analyse the values"
   ]
  },
  {
   "cell_type": "code",
   "execution_count": null,
   "id": "initial-liverpool",
   "metadata": {},
   "outputs": [],
   "source": [
    "# TODO"
   ]
  },
  {
   "attachments": {},
   "cell_type": "markdown",
   "id": "enhanced-moscow",
   "metadata": {},
   "source": [
    "#### Exercise 20. Make the same plot for 4 different populations (level5 column) and rearrange them on the same graph? You must use the subset obtained in the question 14 (★★☆) \n",
    "Hint: make a scatter plot of each population using subplots."
   ]
  },
  {
   "cell_type": "code",
   "execution_count": null,
   "id": "accepting-airfare",
   "metadata": {},
   "outputs": [],
   "source": [
    "# TODO"
   ]
  },
  {
   "attachments": {},
   "cell_type": "markdown",
   "id": "blocked-effects",
   "metadata": {},
   "source": [
    "#### Exercise 21. Make a plot of the coordinates (latitude and longitude columns) of the south belt of Madrid by color of each population (you must use the subset obtained in the question 14) (★★★★)\n",
    "\n",
    "Execute the following cell and then start coding in the next one. You must implement a simple code that transform the coordinates columns in a Python dictionary (add more information if needed) and then add it to the map"
   ]
  },
  {
   "cell_type": "code",
   "execution_count": null,
   "id": "headed-privacy",
   "metadata": {},
   "outputs": [],
   "source": [
    "from ipyleaflet import Map, basemaps\n",
    "\n",
=======
   "execution_count": 29,
   "id": "312aac99",
   "metadata": {},
   "outputs": [
    {
     "data": {
      "application/vnd.jupyter.widget-view+json": {
       "model_id": "6998b8c6370343fb86d0534bb195c1b0",
       "version_major": 2,
       "version_minor": 0
      },
      "text/plain": [
       "Map(center=[60, -2.2], controls=(ZoomControl(options=['position', 'zoom_in_text', 'zoom_in_title', 'zoom_out_t…"
      ]
     },
     "execution_count": 29,
     "metadata": {},
     "output_type": "execute_result"
    }
   ],
   "source": [
    "# Run in console the following command before run the rest of code:\n",
    "# jupyter nbextension enable --py --sys-prefix ipyleaflet\n",
>>>>>>> a1568b2e99372e51dbab8b2aa75477676c2d4ca8
    "# Map centred on (60 degrees latitude et -2.2 degrees longitude)\n",
    "# Latitude, longitude\n",
    "map = Map(center = (60, -2.2), zoom = 2, min_zoom = 1, max_zoom = 20, \n",
    "    basemap=basemaps.Stamen.Terrain)\n",
    "map"
   ]
  },
  {
   "cell_type": "code",
<<<<<<< HEAD
   "execution_count": null,
   "id": "present-mistress",
=======
   "execution_count": 30,
   "id": "f7931ec0",
>>>>>>> a1568b2e99372e51dbab8b2aa75477676c2d4ca8
   "metadata": {},
   "outputs": [
    {
     "ename": "KeyboardInterrupt",
     "evalue": "",
     "output_type": "error",
     "traceback": [
      "\u001b[0;31m---------------------------------------------------------------------------\u001b[0m",
      "\u001b[0;31mKeyboardInterrupt\u001b[0m                         Traceback (most recent call last)",
      "Cell \u001b[0;32mIn[30], line 20\u001b[0m\n\u001b[1;32m     16\u001b[0m color \u001b[39m=\u001b[39m colors\u001b[39m.\u001b[39mrgb2hex(cmap(category_index))\n\u001b[1;32m     18\u001b[0m marker \u001b[39m=\u001b[39m CircleMarker(location\u001b[39m=\u001b[39m(latitude, longitude), radius\u001b[39m=\u001b[39m\u001b[39m5\u001b[39m, \n\u001b[1;32m     19\u001b[0m                      color\u001b[39m=\u001b[39mcolor, fill_color\u001b[39m=\u001b[39mcolor, fill_opacity\u001b[39m=\u001b[39m\u001b[39m0.6\u001b[39m)\n\u001b[0;32m---> 20\u001b[0m \u001b[39mmap\u001b[39;49m\u001b[39m.\u001b[39;49madd_layer(marker)\n",
      "File \u001b[0;32m~/.local/lib/python3.11/site-packages/ipyleaflet/leaflet.py:2526\u001b[0m, in \u001b[0;36mMap.add_layer\u001b[0;34m(self, layer)\u001b[0m\n\u001b[1;32m   2515\u001b[0m \u001b[39m\u001b[39m\u001b[39m\"\"\"Add a layer on the map.\u001b[39;00m\n\u001b[1;32m   2516\u001b[0m \n\u001b[1;32m   2517\u001b[0m \u001b[39m.. deprecated :: 0.17.0\u001b[39;00m\n\u001b[0;32m   (...)\u001b[0m\n\u001b[1;32m   2523\u001b[0m \u001b[39m    The new layer to add.\u001b[39;00m\n\u001b[1;32m   2524\u001b[0m \u001b[39m\"\"\"\u001b[39;00m\n\u001b[1;32m   2525\u001b[0m warnings\u001b[39m.\u001b[39mwarn(\u001b[39m\"\u001b[39m\u001b[39madd_layer is deprecated, use add instead\u001b[39m\u001b[39m\"\u001b[39m, \u001b[39mDeprecationWarning\u001b[39;00m)\n\u001b[0;32m-> 2526\u001b[0m \u001b[39mself\u001b[39;49m\u001b[39m.\u001b[39;49madd(layer)\n",
      "File \u001b[0;32m~/.local/lib/python3.11/site-packages/ipyleaflet/leaflet.py:2666\u001b[0m, in \u001b[0;36mMap.add\u001b[0;34m(self, item)\u001b[0m\n\u001b[1;32m   2664\u001b[0m     \u001b[39mif\u001b[39;00m item\u001b[39m.\u001b[39mmodel_id \u001b[39min\u001b[39;00m \u001b[39mself\u001b[39m\u001b[39m.\u001b[39m_layer_ids:\n\u001b[1;32m   2665\u001b[0m         \u001b[39mraise\u001b[39;00m LayerException(\u001b[39m'\u001b[39m\u001b[39mlayer already on map: \u001b[39m\u001b[39m%r\u001b[39;00m\u001b[39m'\u001b[39m \u001b[39m%\u001b[39m item)\n\u001b[0;32m-> 2666\u001b[0m     \u001b[39mself\u001b[39;49m\u001b[39m.\u001b[39;49mlayers \u001b[39m=\u001b[39m \u001b[39mtuple\u001b[39m([layer \u001b[39mfor\u001b[39;00m layer \u001b[39min\u001b[39;00m \u001b[39mself\u001b[39m\u001b[39m.\u001b[39mlayers] \u001b[39m+\u001b[39m [item])\n\u001b[1;32m   2668\u001b[0m \u001b[39melif\u001b[39;00m \u001b[39misinstance\u001b[39m(item, Control):\n\u001b[1;32m   2669\u001b[0m     \u001b[39mif\u001b[39;00m item\u001b[39m.\u001b[39mmodel_id \u001b[39min\u001b[39;00m \u001b[39mself\u001b[39m\u001b[39m.\u001b[39m_control_ids:\n",
      "File \u001b[0;32m~/.local/lib/python3.11/site-packages/traitlets/traitlets.py:732\u001b[0m, in \u001b[0;36mTraitType.__set__\u001b[0;34m(self, obj, value)\u001b[0m\n\u001b[1;32m    730\u001b[0m     \u001b[39mraise\u001b[39;00m TraitError(\u001b[39m'\u001b[39m\u001b[39mThe \u001b[39m\u001b[39m\"\u001b[39m\u001b[39m%s\u001b[39;00m\u001b[39m\"\u001b[39m\u001b[39m trait is read-only.\u001b[39m\u001b[39m'\u001b[39m \u001b[39m%\u001b[39m \u001b[39mself\u001b[39m\u001b[39m.\u001b[39mname)\n\u001b[1;32m    731\u001b[0m \u001b[39melse\u001b[39;00m:\n\u001b[0;32m--> 732\u001b[0m     \u001b[39mself\u001b[39;49m\u001b[39m.\u001b[39;49mset(obj, value)\n",
      "File \u001b[0;32m~/.local/lib/python3.11/site-packages/traitlets/traitlets.py:706\u001b[0m, in \u001b[0;36mTraitType.set\u001b[0;34m(self, obj, value)\u001b[0m\n\u001b[1;32m    705\u001b[0m \u001b[39mdef\u001b[39;00m \u001b[39mset\u001b[39m(\u001b[39mself\u001b[39m, obj, value):\n\u001b[0;32m--> 706\u001b[0m     new_value \u001b[39m=\u001b[39m \u001b[39mself\u001b[39;49m\u001b[39m.\u001b[39;49m_validate(obj, value)\n\u001b[1;32m    707\u001b[0m     \u001b[39mtry\u001b[39;00m:\n\u001b[1;32m    708\u001b[0m         old_value \u001b[39m=\u001b[39m obj\u001b[39m.\u001b[39m_trait_values[\u001b[39mself\u001b[39m\u001b[39m.\u001b[39mname]\n",
      "File \u001b[0;32m~/.local/lib/python3.11/site-packages/traitlets/traitlets.py:740\u001b[0m, in \u001b[0;36mTraitType._validate\u001b[0;34m(self, obj, value)\u001b[0m\n\u001b[1;32m    738\u001b[0m     value \u001b[39m=\u001b[39m \u001b[39mself\u001b[39m\u001b[39m.\u001b[39mvalidate(obj, value)\n\u001b[1;32m    739\u001b[0m \u001b[39mif\u001b[39;00m obj\u001b[39m.\u001b[39m_cross_validation_lock \u001b[39mis\u001b[39;00m \u001b[39mFalse\u001b[39;00m:\n\u001b[0;32m--> 740\u001b[0m     value \u001b[39m=\u001b[39m \u001b[39mself\u001b[39;49m\u001b[39m.\u001b[39;49m_cross_validate(obj, value)\n\u001b[1;32m    741\u001b[0m \u001b[39mreturn\u001b[39;00m value\n",
      "File \u001b[0;32m~/.local/lib/python3.11/site-packages/traitlets/traitlets.py:746\u001b[0m, in \u001b[0;36mTraitType._cross_validate\u001b[0;34m(self, obj, value)\u001b[0m\n\u001b[1;32m    744\u001b[0m \u001b[39mif\u001b[39;00m \u001b[39mself\u001b[39m\u001b[39m.\u001b[39mname \u001b[39min\u001b[39;00m obj\u001b[39m.\u001b[39m_trait_validators:\n\u001b[1;32m    745\u001b[0m     proposal \u001b[39m=\u001b[39m Bunch({\u001b[39m\"\u001b[39m\u001b[39mtrait\u001b[39m\u001b[39m\"\u001b[39m: \u001b[39mself\u001b[39m, \u001b[39m\"\u001b[39m\u001b[39mvalue\u001b[39m\u001b[39m\"\u001b[39m: value, \u001b[39m\"\u001b[39m\u001b[39mowner\u001b[39m\u001b[39m\"\u001b[39m: obj})\n\u001b[0;32m--> 746\u001b[0m     value \u001b[39m=\u001b[39m obj\u001b[39m.\u001b[39;49m_trait_validators[\u001b[39mself\u001b[39;49m\u001b[39m.\u001b[39;49mname](obj, proposal)\n\u001b[1;32m    747\u001b[0m \u001b[39melif\u001b[39;00m \u001b[39mhasattr\u001b[39m(obj, \u001b[39m\"\u001b[39m\u001b[39m_\u001b[39m\u001b[39m%s\u001b[39;00m\u001b[39m_validate\u001b[39m\u001b[39m\"\u001b[39m \u001b[39m%\u001b[39m \u001b[39mself\u001b[39m\u001b[39m.\u001b[39mname):\n\u001b[1;32m    748\u001b[0m     meth_name \u001b[39m=\u001b[39m \u001b[39m\"\u001b[39m\u001b[39m_\u001b[39m\u001b[39m%s\u001b[39;00m\u001b[39m_validate\u001b[39m\u001b[39m\"\u001b[39m \u001b[39m%\u001b[39m \u001b[39mself\u001b[39m\u001b[39m.\u001b[39mname\n",
      "File \u001b[0;32m~/.local/lib/python3.11/site-packages/traitlets/traitlets.py:1233\u001b[0m, in \u001b[0;36mEventHandler.__call__\u001b[0;34m(self, *args, **kwargs)\u001b[0m\n\u001b[1;32m   1231\u001b[0m \u001b[39m\u001b[39m\u001b[39m\"\"\"Pass `*args` and `**kwargs` to the handler's function if it exists.\"\"\"\u001b[39;00m\n\u001b[1;32m   1232\u001b[0m \u001b[39mif\u001b[39;00m \u001b[39mhasattr\u001b[39m(\u001b[39mself\u001b[39m, \u001b[39m\"\u001b[39m\u001b[39mfunc\u001b[39m\u001b[39m\"\u001b[39m):\n\u001b[0;32m-> 1233\u001b[0m     \u001b[39mreturn\u001b[39;00m \u001b[39mself\u001b[39;49m\u001b[39m.\u001b[39;49mfunc(\u001b[39m*\u001b[39;49margs, \u001b[39m*\u001b[39;49m\u001b[39m*\u001b[39;49mkwargs)\n\u001b[1;32m   1234\u001b[0m \u001b[39melse\u001b[39;00m:\n\u001b[1;32m   1235\u001b[0m     \u001b[39mreturn\u001b[39;00m \u001b[39mself\u001b[39m\u001b[39m.\u001b[39m_init_call(\u001b[39m*\u001b[39margs, \u001b[39m*\u001b[39m\u001b[39m*\u001b[39mkwargs)\n",
      "File \u001b[0;32m~/.local/lib/python3.11/site-packages/ipyleaflet/leaflet.py:2509\u001b[0m, in \u001b[0;36mMap._validate_layers\u001b[0;34m(self, proposal)\u001b[0m\n\u001b[1;32m   2502\u001b[0m \u001b[39m@validate\u001b[39m(\u001b[39m'\u001b[39m\u001b[39mlayers\u001b[39m\u001b[39m'\u001b[39m)\n\u001b[1;32m   2503\u001b[0m \u001b[39mdef\u001b[39;00m \u001b[39m_validate_layers\u001b[39m(\u001b[39mself\u001b[39m, proposal):\n\u001b[1;32m   2504\u001b[0m \u001b[39m    \u001b[39m\u001b[39m'''Validate layers list.\u001b[39;00m\n\u001b[1;32m   2505\u001b[0m \n\u001b[1;32m   2506\u001b[0m \u001b[39m    Makes sure only one instance of any given layer can exist in the\u001b[39;00m\n\u001b[1;32m   2507\u001b[0m \u001b[39m    layers list.\u001b[39;00m\n\u001b[1;32m   2508\u001b[0m \u001b[39m    '''\u001b[39;00m\n\u001b[0;32m-> 2509\u001b[0m     \u001b[39mself\u001b[39m\u001b[39m.\u001b[39m_layer_ids \u001b[39m=\u001b[39m [layer\u001b[39m.\u001b[39;49mmodel_id \u001b[39mfor\u001b[39;49;00m layer \u001b[39min\u001b[39;49;00m proposal\u001b[39m.\u001b[39;49mvalue]\n\u001b[1;32m   2510\u001b[0m     \u001b[39mif\u001b[39;00m \u001b[39mlen\u001b[39m(\u001b[39mset\u001b[39m(\u001b[39mself\u001b[39m\u001b[39m.\u001b[39m_layer_ids)) \u001b[39m!=\u001b[39m \u001b[39mlen\u001b[39m(\u001b[39mself\u001b[39m\u001b[39m.\u001b[39m_layer_ids):\n\u001b[1;32m   2511\u001b[0m         \u001b[39mraise\u001b[39;00m LayerException(\u001b[39m'\u001b[39m\u001b[39mduplicate layer detected, only use each layer once\u001b[39m\u001b[39m'\u001b[39m)\n",
      "File \u001b[0;32m~/.local/lib/python3.11/site-packages/ipyleaflet/leaflet.py:2509\u001b[0m, in \u001b[0;36m<listcomp>\u001b[0;34m(.0)\u001b[0m\n\u001b[1;32m   2502\u001b[0m \u001b[39m@validate\u001b[39m(\u001b[39m'\u001b[39m\u001b[39mlayers\u001b[39m\u001b[39m'\u001b[39m)\n\u001b[1;32m   2503\u001b[0m \u001b[39mdef\u001b[39;00m \u001b[39m_validate_layers\u001b[39m(\u001b[39mself\u001b[39m, proposal):\n\u001b[1;32m   2504\u001b[0m \u001b[39m    \u001b[39m\u001b[39m'''Validate layers list.\u001b[39;00m\n\u001b[1;32m   2505\u001b[0m \n\u001b[1;32m   2506\u001b[0m \u001b[39m    Makes sure only one instance of any given layer can exist in the\u001b[39;00m\n\u001b[1;32m   2507\u001b[0m \u001b[39m    layers list.\u001b[39;00m\n\u001b[1;32m   2508\u001b[0m \u001b[39m    '''\u001b[39;00m\n\u001b[0;32m-> 2509\u001b[0m     \u001b[39mself\u001b[39m\u001b[39m.\u001b[39m_layer_ids \u001b[39m=\u001b[39m [layer\u001b[39m.\u001b[39;49mmodel_id \u001b[39mfor\u001b[39;00m layer \u001b[39min\u001b[39;00m proposal\u001b[39m.\u001b[39mvalue]\n\u001b[1;32m   2510\u001b[0m     \u001b[39mif\u001b[39;00m \u001b[39mlen\u001b[39m(\u001b[39mset\u001b[39m(\u001b[39mself\u001b[39m\u001b[39m.\u001b[39m_layer_ids)) \u001b[39m!=\u001b[39m \u001b[39mlen\u001b[39m(\u001b[39mself\u001b[39m\u001b[39m.\u001b[39m_layer_ids):\n\u001b[1;32m   2511\u001b[0m         \u001b[39mraise\u001b[39;00m LayerException(\u001b[39m'\u001b[39m\u001b[39mduplicate layer detected, only use each layer once\u001b[39m\u001b[39m'\u001b[39m)\n",
      "File \u001b[0;32m~/.local/lib/python3.11/site-packages/ipywidgets/widgets/widget.py:546\u001b[0m, in \u001b[0;36mWidget.model_id\u001b[0;34m(self)\u001b[0m\n\u001b[1;32m    541\u001b[0m \u001b[39m@property\u001b[39m\n\u001b[1;32m    542\u001b[0m \u001b[39mdef\u001b[39;00m \u001b[39mmodel_id\u001b[39m(\u001b[39mself\u001b[39m):\n\u001b[1;32m    543\u001b[0m \u001b[39m    \u001b[39m\u001b[39m\"\"\"Gets the model id of this widget.\u001b[39;00m\n\u001b[1;32m    544\u001b[0m \n\u001b[1;32m    545\u001b[0m \u001b[39m    If a Comm doesn't exist yet, a Comm will be created automagically.\"\"\"\u001b[39;00m\n\u001b[0;32m--> 546\u001b[0m     \u001b[39mreturn\u001b[39;00m \u001b[39mself\u001b[39;49m\u001b[39m.\u001b[39;49mcomm\u001b[39m.\u001b[39mcomm_id\n",
      "File \u001b[0;32m~/.local/lib/python3.11/site-packages/traitlets/traitlets.py:703\u001b[0m, in \u001b[0;36mTraitType.__get__\u001b[0;34m(self, obj, cls)\u001b[0m\n\u001b[1;32m    701\u001b[0m     \u001b[39mreturn\u001b[39;00m \u001b[39mself\u001b[39m\n\u001b[1;32m    702\u001b[0m \u001b[39melse\u001b[39;00m:\n\u001b[0;32m--> 703\u001b[0m     \u001b[39mreturn\u001b[39;00m \u001b[39mself\u001b[39;49m\u001b[39m.\u001b[39;49mget(obj, \u001b[39mcls\u001b[39;49m)\n",
      "File \u001b[0;32m~/.local/lib/python3.11/site-packages/traitlets/traitlets.py:654\u001b[0m, in \u001b[0;36mTraitType.get\u001b[0;34m(self, obj, cls)\u001b[0m\n\u001b[1;32m    651\u001b[0m     obj\u001b[39m.\u001b[39m_trait_values[\u001b[39mself\u001b[39m\u001b[39m.\u001b[39mname] \u001b[39m=\u001b[39m value\n\u001b[1;32m    652\u001b[0m     \u001b[39mreturn\u001b[39;00m value\n\u001b[0;32m--> 654\u001b[0m \u001b[39mdef\u001b[39;00m \u001b[39mget\u001b[39m(\u001b[39mself\u001b[39m, obj, \u001b[39mcls\u001b[39m\u001b[39m=\u001b[39m\u001b[39mNone\u001b[39;00m):\n\u001b[1;32m    655\u001b[0m     \u001b[39mtry\u001b[39;00m:\n\u001b[1;32m    656\u001b[0m         value \u001b[39m=\u001b[39m obj\u001b[39m.\u001b[39m_trait_values[\u001b[39mself\u001b[39m\u001b[39m.\u001b[39mname]\n",
      "\u001b[0;31mKeyboardInterrupt\u001b[0m: "
     ]
    }
   ],
   "source": [
    "## HERE: plot the coordinates of the estates\n",
    "\n",
    "## PUT HERE YOUR CODE:\n",
    "categories = ds_cleaned['level5'].unique()\n",
    "num_categories = len(categories)\n",
    "cmap = plt.get_cmap('plasma', num_categories)\n",
    "\n",
    "for _, row in ds_cleaned.iterrows():\n",
    "    latitude = float(row['latitude'].replace(',','.'))\n",
    "    longitude = float(row['longitude'].replace(',','.'))\n",
    "\n",
    "    population_category = row['level5']\n",
    "\n",
    "    category_index = list(categories).index(population_category)\n",
    "\n",
    "    color = colors.rgb2hex(cmap(category_index))\n",
    "    \n",
    "    marker = CircleMarker(location=(latitude, longitude), radius=5, \n",
    "                         color=color, fill_color=color, fill_opacity=0.6)\n",
    "    map.add_layer(marker)"
   ]
<<<<<<< HEAD
=======
  },
  {
   "attachments": {},
   "cell_type": "markdown",
   "id": "b22874b7",
   "metadata": {},
   "source": [
    "#### What can you say about the price per square meter between the towns of Getafe and Alcorcón?"
   ]
  },
  {
   "cell_type": "code",
   "execution_count": 31,
   "id": "e0ef506b",
   "metadata": {},
   "outputs": [
    {
     "data": {
      "image/png": "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",
      "text/plain": [
       "<Figure size 640x480 with 1 Axes>"
      ]
     },
     "metadata": {},
     "output_type": "display_data"
    },
    {
     "name": "stdout",
     "output_type": "stream",
     "text": [
      "Average price per square meter in Getafe: 2066.314949251463\n",
      "Average price per square meter in Alcorcón: 2239.302480199618\n"
     ]
    }
   ],
   "source": [
    "#What can you say about the price per square meter between the towns of Getafe and Alcorcón?\n",
    "#Filter data for Getafe and Alcorcón\n",
    "getafe_data = subset_ds[subset_ds['level5'] == 'Getafe']\n",
    "alcorcon_data = subset_ds[subset_ds['level5'] == 'Alcorcón']\n",
    "\n",
    "#Calculate price per square meter\n",
    "getafe_price_per_sqm = getafe_data['price'] / getafe_data['surface']\n",
    "alcorcon_price_per_sqm = alcorcon_data['price'] / alcorcon_data['surface']\n",
    "\n",
    "#Calculate average\n",
    "getafe_avg_price = getafe_price_per_sqm.mean()\n",
    "alcorcon_avg_price = alcorcon_price_per_sqm.mean()\n",
    "\n",
    "#Visualize the data\n",
    "plt.hist(getafe_price_per_sqm, bins=20, alpha=0.5, label='Getafe')\n",
    "plt.hist(alcorcon_price_per_sqm, bins=20, alpha=0.5, label='Alcorcón')\n",
    "plt.xlabel('Price per Square Meter')\n",
    "plt.ylabel('Frequency')\n",
    "plt.title('Price per Square Meter Comparison: Getafe vs Alcorcón')\n",
    "plt.legend()\n",
    "plt.show()\n",
    "\n",
    "#Print average price per square meter\n",
    "print('Average price per square meter in Getafe:', getafe_avg_price)\n",
    "print('Average price per square meter in Alcorcón:', alcorcon_avg_price)"
   ]
  },
  {
   "attachments": {},
   "cell_type": "markdown",
   "id": "a4376b3f",
   "metadata": {},
   "source": [
    "#### Reload the data, is the average of \"Valdemorillo\" and \"Galapagar\" prices the same?"
   ]
  },
  {
   "cell_type": "code",
   "execution_count": 32,
   "id": "37dbaf65",
   "metadata": {},
   "outputs": [
    {
     "name": "stdout",
     "output_type": "stream",
     "text": [
      "The average prices in Valdemorillo and Galapagar are different.\n"
     ]
    }
   ],
   "source": [
    "#Reload the data, is the average of \"Valdemorillo\" and \"Galapagar\" prices the same?\n",
    "#Filter data for Valdemorillo and Galapagar\n",
    "valdemorillo_data = subset_ds[subset_ds['level5'] == 'Valdemorillo']\n",
    "galapagar_data = subset_ds[subset_ds['level5'] == 'Galapagar']\n",
    "\n",
    "#Calculate average prices\n",
    "valdemorillo_avg_prices = valdemorillo_data['price'].mean()\n",
    "galapagar_avg_prices = galapagar_data['price'].mean()\n",
    "\n",
    "#Compare average prices\n",
    "if valdemorillo_avg_prices == galapagar_avg_prices:\n",
    "    print(\"The average prices in Valdemorillo and Galapagar are the same.\")\n",
    "else:\n",
    "    print(\"The average prices in Valdemorillo and Galapagar are different.\")"
   ]
  },
  {
   "attachments": {},
   "cell_type": "markdown",
   "id": "b6af45ec",
   "metadata": {},
   "source": [
    "#### What happens if we do the same analysis for price/m2 (★★☆) "
   ]
  },
  {
   "cell_type": "code",
   "execution_count": null,
   "id": "8231d73e",
   "metadata": {},
   "outputs": [
    {
     "name": "stdout",
     "output_type": "stream",
     "text": [
      "The average prices in Valdemorillo and Galapagar are different.\n"
     ]
    }
   ],
   "source": [
    "#What happens if we do the same analysis for price/m2\n",
    "#Calculate price per square meter\n",
    "valdemorillo_price_per_sqm = valdemorillo_data['price'] / valdemorillo_data['surface']\n",
    "galapagar_price_per_sqm = galapagar_data['price'] / galapagar_data['surface']\n",
    "\n",
    "#Calculate average prices\n",
    "valdemorillo_avg_price = valdemorillo_price_per_sqm.mean()\n",
    "galapagar_avg_price = galapagar_price_per_sqm.mean()\n",
    "\n",
    "#Compare average prices\n",
    "if valdemorillo_avg_price == galapagar_avg_price:\n",
    "    print(\"The average prices in Valdemorillo and Galapagar are the same.\")\n",
    "else:\n",
    "    print(\"The average prices in Valdemorillo and Galapagar are different.\")"
   ]
  },
  {
   "attachments": {},
   "cell_type": "markdown",
   "id": "2d40e202",
   "metadata": {},
   "source": [
    "#### Could you say there is a relation between surface and price? (★★☆) \n",
    "Hint: make a scatter plot."
   ]
  },
  {
   "cell_type": "code",
   "execution_count": null,
   "id": "405462e1",
   "metadata": {},
   "outputs": [
    {
     "name": "stdout",
     "output_type": "stream",
     "text": [
      "I could said that there is a relation between surface and prices,\n",
      "because we can observe on the scattered plot that when the surface increases, there also increase the price\n"
     ]
    },
    {
     "data": {
      "image/png": "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",
      "text/plain": [
       "<Figure size 640x480 with 1 Axes>"
      ]
     },
     "metadata": {},
     "output_type": "display_data"
    }
   ],
   "source": [
    "#Could you say there is a relation between surface and price?\n",
    "#Scatter plot\n",
    "subset_ds.plot.scatter(x='surface',y='price')\n",
    "\n",
    "print('I could said that there is a relation between surface and prices,\\nbecause we can observe on the scattered plot that when the surface increases, there also increase the price')"
   ]
  },
  {
   "attachments": {},
   "cell_type": "markdown",
   "id": "3275db77",
   "metadata": {},
   "source": [
    "#### Make the same plot for 4 different populations (level5) and rearrange them on the same graph? (★★☆) \n",
    "Hint: make a scatter plot of each population using subplots."
   ]
  },
  {
   "cell_type": "code",
   "execution_count": null,
   "id": "e08292ff",
   "metadata": {},
   "outputs": [
    {
     "data": {
      "image/png": "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",
      "text/plain": [
       "<Figure size 640x480 with 1 Axes>"
      ]
     },
     "metadata": {},
     "output_type": "display_data"
    }
   ],
   "source": [
    "#Separate the data of the different populations (\"Fuenlabrada\", \"Leganés\", \"Getafe\", \"Alcorcón\")\n",
    "fuenlabrada_data = subset_ds[subset_ds['level5'] == 'Fuenlabrada']\n",
    "fuenlabrada_surface = fuenlabrada_data['surface']\n",
    "fuenlabrada_price = fuenlabrada_data['price']\n",
    "\n",
    "leganes_data = subset_ds[subset_ds['level5'] == 'Leganés']\n",
    "leganes_surface = fuenlabrada_data['surface']\n",
    "leganes_price = fuenlabrada_data['price']\n",
    "\n",
    "getafe_data = subset_ds[subset_ds['level5'] == 'Leganés']\n",
    "getafe_surface = fuenlabrada_data['surface']\n",
    "getafe_price = fuenlabrada_data['price']\n",
    "\n",
    "alarcon = subset_ds[subset_ds['level5'] == 'Alarcón']\n",
    "alarcon_surface = fuenlabrada_data['surface']\n",
    "alarcon_price = fuenlabrada_data['price']\n",
    "\n",
    "#Make the scatter plot\n",
    "plt.scatter(fuenlabrada_surface, fuenlabrada_price, color='blue', marker='*', label='Fuenlabrada')\n",
    "plt.scatter(leganes_surface, leganes_price, color='red', marker='v', label='Leganés')\n",
    "plt.scatter(getafe_surface, getafe_price, color='green', marker='.', label='Getafe')\n",
    "plt.scatter(alarcon_surface, alarcon_price, color='black', marker='+', label='Getafe')\n",
    "\n",
    "plt.title('Relationship surface vs price in different populations')\n",
    "plt.legend(loc='best')\n",
    "plt.show()"
   ]
  },
  {
   "attachments": {},
   "cell_type": "markdown",
   "id": "522c6bd9",
   "metadata": {},
   "source": [
    "#### How many  real estate agencies the dataset contains? (★★☆) "
   ]
  },
  {
   "cell_type": "code",
   "execution_count": null,
   "id": "014ec6c8",
   "metadata": {},
   "outputs": [
    {
     "name": "stdout",
     "output_type": "stream",
     "text": [
      "There are :  1821 Real Estate Agencies\n"
     ]
    }
   ],
   "source": [
    "#How many  real estate agencies the dataset contains?\n",
    "#Count the real estate agencies\n",
    "real_estate_agencies = ds_cleaned['realEstate_name'].nunique()\n",
    "\n",
    "#Print the result\n",
    "print('There are : ', real_estate_agencies, 'Real Estate Agencies')"
   ]
  },
  {
   "attachments": {},
   "cell_type": "markdown",
   "id": "899a101e",
   "metadata": {},
   "source": [
    "#### What is the population (level 5) that contains the most houses? (★★☆) "
   ]
  },
  {
   "cell_type": "code",
   "execution_count": null,
   "id": "9e8b34ba",
   "metadata": {},
   "outputs": [
    {
     "name": "stdout",
     "output_type": "stream",
     "text": [
      "The population with the most houses:  Madrid Capital\n"
     ]
    }
   ],
   "source": [
    "#Count houses for each population\n",
    "population_counts = ds_cleaned['level5'].value_counts()\n",
    "\n",
    "#Find the population with the highest count\n",
    "most_houses_population = population_counts.idxmax()\n",
    "\n",
    "#Print the population with the most houses\n",
    "print(\"The population with the most houses:\", most_houses_population)"
   ]
>>>>>>> a1568b2e99372e51dbab8b2aa75477676c2d4ca8
  }
 ],
 "metadata": {
  "kernelspec": {
   "display_name": "Python 3",
   "language": "python",
   "name": "python3"
  },
  "language_info": {
   "codemirror_mode": {
    "name": "ipython",
    "version": 3
   },
   "file_extension": ".py",
   "mimetype": "text/x-python",
   "name": "python",
   "nbconvert_exporter": "python",
   "pygments_lexer": "ipython3",
<<<<<<< HEAD
   "version": "3.11.8"
=======
   "version": "3.11.4"
>>>>>>> a1568b2e99372e51dbab8b2aa75477676c2d4ca8
  }
 },
 "nbformat": 4,
 "nbformat_minor": 5
}
